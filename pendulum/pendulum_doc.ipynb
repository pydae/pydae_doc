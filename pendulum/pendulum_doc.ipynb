{
 "cells": [
  {
   "cell_type": "markdown",
   "metadata": {},
   "source": [
    "# Pendulum DAE system"
   ]
  },
  {
   "cell_type": "code",
   "execution_count": 4,
   "metadata": {
    "tags": [
     "hide-input"
    ]
   },
   "outputs": [
    {
     "data": {
      "image/jpeg": "[encoded data removed]",
      "text/html": [
       "\n",
       "        <iframe\n",
       "            width=\"400\"\n",
       "            height=\"300\"\n",
       "            src=\"https://www.youtube.com/embed/4a0FbQdH3dY\"\n",
       "            frameborder=\"0\"\n",
       "            allowfullscreen\n",
       "        ></iframe>\n",
       "        "
      ],
      "text/plain": [
       "<IPython.lib.display.YouTubeVideo at 0x1a54d92e700>"
      ]
     },
     "execution_count": 4,
     "metadata": {},
     "output_type": "execute_result"
    }
   ],
   "source": [
    "from IPython.lib.display import YouTubeVideo\n",
    "YouTubeVideo('4a0FbQdH3dY')"
   ]
  },
  {
   "cell_type": "markdown",
   "metadata": {},
   "source": [
    "## Formulation\n",
    "\n",
    "Backward solution:\n",
    "\n",
    "$$\n",
    "\\begin{split} \n",
    "\\mathbf {\\dot x}  &  =  \\mathbf {f (x,y^{ini},u^{ini}) } \\\\\n",
    "\\mathbf 0 & =  \\mathbf {g (x,y^{ini},u^{ini}) }  \n",
    "\\end{split}\n",
    "$$\n",
    "\n",
    "Foreward solution:\n",
    "\n",
    "$$\n",
    "\\begin{split} \n",
    "\\mathbf {\\dot x}  &  =  \\mathbf {f (x,y^{run},u^{run}) } \\\\\n",
    "\\mathbf 0 & =  \\mathbf {g (x,y^{run},u^{run}) }  \n",
    "\\end{split}\n",
    "$$\n",
    " \n",
    "### Differential equations\n",
    "\n",
    "$$   \n",
    "\\begin{eqnarray}\n",
    "f_1 &=& \\frac{dp_x}{dt} = v_x \\\\\n",
    "f_2 &=& \\frac{dp_y}{dt} = v_y \\\\\n",
    "f_3 &=& \\frac{dv_x}{dt} = \\frac{1}{M} \\left(-2 p_x \\lambda + f_x - K_d v_x \\right)  \\\\\n",
    "f_4 &=& \\frac{dv_y}{dt} = \\frac{1}{M} \\left(-M G - 2 p_y \\lambda - K_d v_y \\right)\n",
    "\\end{eqnarray}\n",
    "$$\n",
    "\n",
    "### Algebraic equations\n",
    "\n",
    "$$\n",
    "\\begin{eqnarray}\n",
    "g_1 &=& p_x^2 + p_y^2 - L^2  \\\\\n",
    "g_2 &=& -\\theta + \\arctan\\left(p_x,-p_y\\right) \n",
    "\\end{eqnarray}\n",
    "$$\n",
    "\n",
    "\n",
    "The dynamic states are:\n",
    "\n",
    "$$\n",
    "\\mathbf{f} =\n",
    "\\left[\n",
    "\\begin{array}{c}\n",
    "f_1\\\\\n",
    "f_2\\\\\n",
    "f_3\\\\\n",
    "f_4\n",
    "\\end{array}\n",
    "\\right]\n",
    "\\;\\;\\;\\;\\;\\;\n",
    "\\mathbf{g} =\n",
    "\\left[\n",
    "\\begin{array}{c}\n",
    "g_1\\\\\n",
    "g_2\n",
    "\\end{array}\n",
    "\\right]\n",
    "\\;\\;\\;\\;\\;\\;\n",
    "$$\n",
    "\n",
    "$$\n",
    "\\mathbf x = \\left[\n",
    "\\begin{array}{c} \n",
    "p_x \\\\ \n",
    "p_y \\\\ \n",
    "v_x \\\\ \n",
    "v_y \n",
    "\\end{array} \\right]\n",
    "\\;\\;\\;\\;\n",
    "\\mathbf {y^{ini}} = \\left[\n",
    "\\begin{array}{c} \n",
    " \\lambda \\\\ \n",
    " f_x\n",
    "\\end{array} \\right] \n",
    "\\;\\;\\;\\;\n",
    "\\mathbf {y^{run}} = \\left[\n",
    "\\begin{array}{c} \n",
    " \\lambda \\\\ \n",
    "\\theta\n",
    "\\end{array} \\right] \n",
    "\\;\\;\\;\\;\n",
    "\\mathbf {u^{ini}} = \\left[\n",
    "\\begin{array}{c} \n",
    "\\theta\n",
    "\\end{array} \\right] \n",
    "\\;\\;\\;\\;\n",
    "\\mathbf {u^{run}} = \\left[\n",
    "\\begin{array}{c} \n",
    "f_x\n",
    "\\end{array} \\right]\n",
    "$$\n",
    "\n",
    "### Outputs\n",
    "\n",
    "We may be interested in the potential energy:\n",
    "$$\n",
    "E_p = M G p_y\n",
    "$$\n",
    "\n",
    "And the kinetical energy:\n",
    "$$\n",
    "E_k = \\frac{1}{2} M \\left(v_x^2 + v_y^2 \\right)\n",
    "$$\n",
    "\n",
    "$$\n",
    "\\mathbf{h} =\n",
    "\\left[\n",
    "\\begin{array}{c}\n",
    "M G p_y\\\\\n",
    "\\frac{1}{2} M \\left(v_x^2 + v_y^2 \\right)\n",
    "\\end{array}\n",
    "\\right]\n",
    "\\;\\;\\;\\;\\;\\;\n",
    "\\mathbf{z} =\n",
    "\\left[\n",
    "\\begin{array}{c}\n",
    "E_p\\\\\n",
    "E_k\n",
    "\\end{array}\n",
    "\\right]\n",
    "$$"
   ]
  },
  {
   "cell_type": "markdown",
   "metadata": {},
   "source": [
    "9.45 he sets the bom in 5deg (How much force in x did he applied?)\n",
    "\n"
   ]
  },
  {
   "cell_type": "code",
   "execution_count": 5,
   "metadata": {},
   "outputs": [],
   "source": [
    "import numpy as np\n",
    "import sympy as sym\n",
    "import pydae.build as db"
   ]
  },
  {
   "cell_type": "markdown",
   "metadata": {},
   "source": [
    "### Definition of variables and constants"
   ]
  },
  {
   "cell_type": "code",
   "execution_count": 6,
   "metadata": {},
   "outputs": [],
   "source": [
    "params_dict = {'L':5.21,'G':9.81,'M':10.0,'K_d':1e-3}\n",
    "\n",
    "\n",
    "u_ini_dict = {'theta':np.deg2rad(5.0)}  # input for the initialization problem\n",
    "u_run_dict = {'f_x':0}                  # input for the running problem, its value is updated \n",
    "\n",
    "\n",
    "x_list = ['p_x','p_y','v_x','v_y']  # dynamic states\n",
    "y_ini_list = ['lam','f_x']          # algebraic states for the initialization problem\n",
    "y_run_list = ['lam','theta']        # algebraic for the running problem\n",
    "\n",
    "sys_vars = {'params':params_dict,\n",
    "            'u_list':u_run_dict,\n",
    "            'x_list':x_list,\n",
    "            'y_list':y_run_list}\n",
    "\n",
    "exec(db.sym_gen_str())  # exec to generate the required symbolic varables and constants"
   ]
  },
  {
   "cell_type": "markdown",
   "metadata": {},
   "source": [
    "### System formulation"
   ]
  },
  {
   "cell_type": "code",
   "execution_count": 7,
   "metadata": {},
   "outputs": [],
   "source": [
    "dp_x = v_x\n",
    "dp_y = v_y\n",
    "dv_x = (-2*p_x*lam + f_x - K_d*v_x)/M\n",
    "dv_y = (-M*G - 2*p_y*lam - K_d*v_y)/M   \n",
    "\n",
    "g_1 = p_x**2 + p_y**2 - L**2 -lam*1e-6\n",
    "g_2 = -theta + sym.atan2(p_x,-p_y)"
   ]
  },
  {
   "cell_type": "markdown",
   "metadata": {},
   "source": [
    "## Build the model"
   ]
  },
  {
   "cell_type": "code",
   "execution_count": 9,
   "metadata": {},
   "outputs": [],
   "source": [
    "sys = {'name':'pendulum',\n",
    "       'params_dict':params_dict,\n",
    "       'f_list':[dp_x,dp_y,dv_x,dv_y],\n",
    "       'g_list':[g_1,g_2],\n",
    "       'x_list':x_list,\n",
    "       'y_ini_list':y_ini_list,\n",
    "       'y_run_list':y_run_list,\n",
    "       'u_run_dict':u_run_dict,\n",
    "       'u_ini_dict':u_ini_dict,\n",
    "       'h_dict':{'E_p':M*G*(p_y+L),'E_k':0.5*M*(v_x**2+v_y**2),'theta':theta,'f_x':f_x}}\n",
    "\n",
    "sys = db.system(sys)\n",
    "db.sys2num(sys)"
   ]
  },
  {
   "cell_type": "code",
   "execution_count": null,
   "metadata": {},
   "outputs": [],
   "source": []
  }
 ],
 "metadata": {
  "celltoolbar": "Edit Metadata",
  "kernelspec": {
   "display_name": "Python 3",
   "language": "python",
   "name": "python3"
  },
  "language_info": {
   "codemirror_mode": {
    "name": "ipython",
    "version": 3
   },
   "file_extension": ".py",
   "mimetype": "text/x-python",
   "name": "python",
   "nbconvert_exporter": "python",
   "pygments_lexer": "ipython3",
   "version": "3.8.5"
  }
 },
 "nbformat": 4,
 "nbformat_minor": 4
}

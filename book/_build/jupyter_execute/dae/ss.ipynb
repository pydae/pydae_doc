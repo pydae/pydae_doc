{
 "cells": [
  {
   "attachments": {},
   "cell_type": "markdown",
   "id": "41a7d94d",
   "metadata": {},
   "source": [
    "## Steady state solution\n",
    "\n",
    "The steady state of a dynamical system is obtained when the derivatives are zero ($\\mathbf {\\dot x = \\mathbf 0}$). This can be extended to DAE system as follows:\n",
    "\n",
    "$$\n",
    "\\begin{split} \n",
    "\\mathbf 0 & =  \\mathbf {f (x,y,u,p) } \\\\\n",
    "\\mathbf 0 & =  \\mathbf {g (x,y,u,p) }  \n",
    "\\end{split}\n",
    "$$\n",
    "\n",
    "In pydae the steady state solution is obtained for the initialization problem:\n",
    "\n",
    "\n",
    "$$\n",
    "\\begin{split} \n",
    "\\mathbf 0 & =  \\mathbf {f (x,y^{ini},u^{ini},p) } \\\\\n",
    "\\mathbf 0 & =  \\mathbf {g (x,y^{ini},u^{ini},p) }  \n",
    "\\end{split}\n",
    "$$"
   ]
  },
  {
   "attachments": {},
   "cell_type": "markdown",
   "id": "4ca87ca9",
   "metadata": {},
   "source": [
    "Therefore, to find the steady state one must solve the previous system for $\\mathbf x$ and $\\mathbf{ y^{ini}}$ or for the vector containing both called $\\boldsymbol \\xi$:\n",
    "\n",
    "$$\n",
    "\\boldsymbol \\lambda \\left( \\boldsymbol \\xi \\right) =  \\left[\n",
    "\\begin{array}{c}\n",
    "\\mathbf {f (\\boldsymbol \\xi)}\t\\\\ \n",
    "\\mathbf {g (\\boldsymbol \\xi)}\n",
    "\\end{array} \\right] \\;\\;\\;\\;\\;\\;\n",
    "\\boldsymbol \\xi  =  \\left[\n",
    "\\begin{array}{c}\n",
    "\\mathbf {x}\t\\\\ \n",
    "\\mathbf {{y}^{ini}}\n",
    "\\end{array} \\right]\n",
    "$$\n",
    "\n",
    "for given inputs $\\mathbf u^{ini}$ and parameters $\\mathbf p$.\n"
   ]
  },
  {
   "attachments": {},
   "cell_type": "markdown",
   "id": "fbea69dd",
   "metadata": {},
   "source": [
    "Thus, to find the equilibrium point, the following system of $ N_x + N_y$ equations must be solved:\n",
    "\n",
    "$$\n",
    "\\mathbf 0 = \\boldsymbol \\lambda \\left( \\boldsymbol \\xi \\right) \n",
    "$$"
   ]
  },
  {
   "attachments": {},
   "cell_type": "markdown",
   "id": "91469f1c",
   "metadata": {},
   "source": [
    "In pydae this system is can be solved with Newton Raphson method:\n",
    "\n",
    "$$ \\Delta \\boldsymbol {\\xi} =-\\left( \\left. \\mathbf{J_{ini}} \\right|_{\\boldsymbol {\\xi} ^i} \\right)^{-1}  \\boldsymbol \\lambda \\left( \\boldsymbol \\xi^i \\right)  \n",
    "$$\n",
    "\n",
    "To find a new value of $\\boldsymbol {\\xi}$:\n",
    "\n",
    "$$ \\boldsymbol \\xi^{i+1} =\\boldsymbol \\xi^i +  \\Delta \\boldsymbol {\\xi}   $$\n",
    "\n",
    "where the jacobian is defined as follows:\n",
    "\n",
    "$$   \\mathbf {J_{ini} }= \\left[ \n",
    "\\begin{array}{cc}\n",
    "\\mathbf{F_x^{ini}} & \\mathbf{F_y^{ini}}\t\\\\ \n",
    "\\mathbf{G_x^{ini}} & \\mathbf{G_y^{ini}}\t \n",
    "\\end{array}\t\t\t\\right]\n",
    "$$"
   ]
  },
  {
   "attachments": {},
   "cell_type": "markdown",
   "id": "077c35f1",
   "metadata": {},
   "source": [
    "In order to improve the solution speed, the jacobian $\\mathbf{ J_{ini}}$ is composed by three matrices as follows:\n",
    "$$ \\mathbf {J_{ini} =  J_{ini}^{num} +  J_{ini}^{up} + J_{ini}^{xy} } $$  \n",
    "where:\n",
    "\n",
    "* $\\mathbf {J_{ini}^{num}}$ has nonzero elements that are constants and is only evaluated when the system is build.\n",
    "* $\\mathbf {J_{ini}^{up}}$ has nonzero elements that are only function of the inputs $\\mathbf {u^{ini}}$ or the parameters   $\\mathbf p$. These elements are only evaluated when inputs and parameters are changed.\n",
    "* $\\mathbf {J_{ini}^{xy}}$ has nonzero elements that contains dynamics or algebraic states $\\mathbf x$ and $\\mathbf {y^{ini}}$.\n"
   ]
  },
  {
   "cell_type": "code",
   "execution_count": null,
   "id": "1089e831",
   "metadata": {},
   "outputs": [],
   "source": []
  }
 ],
 "metadata": {
  "kernelspec": {
   "display_name": "base",
   "language": "python",
   "name": "python3"
  },
  "language_info": {
   "codemirror_mode": {
    "name": "ipython",
    "version": 3
   },
   "file_extension": ".py",
   "mimetype": "text/x-python",
   "name": "python",
   "nbconvert_exporter": "python",
   "pygments_lexer": "ipython3",
   "version": "3.9.13"
  },
  "vscode": {
   "interpreter": {
    "hash": "1b1fd1016f48c91706a48f1be322d44ea1680db2bb213f1ce174a5eccfd1e534"
   }
  }
 },
 "nbformat": 4,
 "nbformat_minor": 5
}
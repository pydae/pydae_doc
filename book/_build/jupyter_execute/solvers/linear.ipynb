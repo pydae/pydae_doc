{
 "cells": [
  {
   "cell_type": "markdown",
   "metadata": {},
   "source": [
    "# Linear solvers"
   ]
  },
  {
   "cell_type": "code",
   "execution_count": 1,
   "metadata": {},
   "outputs": [],
   "source": [
    "import numpy as np\n",
    "from scipy.sparse.linalg import spsolve,bicg,gmres\n",
    "import scipy.sparse as sp\n",
    "import pypardiso\n",
    "import numba\n",
    "\n",
    "N = 2000\n",
    "A_sp = sp.rand(N, N, density=0.01, format='csr')\n",
    "b_sp = np.random.rand(N)\n",
    "A_de = A_sp.toarray()"
   ]
  },
  {
   "attachments": {},
   "cell_type": "markdown",
   "metadata": {},
   "source": [
    "## numpy"
   ]
  },
  {
   "cell_type": "code",
   "execution_count": 2,
   "metadata": {},
   "outputs": [
    {
     "name": "stdout",
     "output_type": "stream",
     "text": [
      "95.2 ms ± 15.8 ms per loop (mean ± std. dev. of 7 runs, 10 loops each)\n"
     ]
    },
    {
     "data": {
      "text/plain": [
       "array([ 11.27991968,  -3.69412392,  -8.6179802 , ..., -42.73132855,\n",
       "       -35.02665445, -47.7222021 ])"
      ]
     },
     "execution_count": 2,
     "metadata": {},
     "output_type": "execute_result"
    }
   ],
   "source": [
    "%timeit np.linalg.solve(A_de,b_sp)\n",
    "np.linalg.solve(A_de,b_sp)"
   ]
  },
  {
   "attachments": {},
   "cell_type": "markdown",
   "metadata": {},
   "source": [
    "## pypardiso"
   ]
  },
  {
   "cell_type": "code",
   "execution_count": 3,
   "metadata": {},
   "outputs": [
    {
     "data": {
      "text/plain": [
       "array([ 11.27991968,  -3.69412392,  -8.6179802 , ..., -42.73132856,\n",
       "       -35.02665445, -47.7222021 ])"
      ]
     },
     "execution_count": 3,
     "metadata": {},
     "output_type": "execute_result"
    }
   ],
   "source": [
    "x = pypardiso.spsolve(A_sp, b_sp)\n",
    "x"
   ]
  },
  {
   "cell_type": "code",
   "execution_count": 4,
   "metadata": {},
   "outputs": [],
   "source": [
    "pypardiso.ps?"
   ]
  },
  {
   "cell_type": "code",
   "execution_count": null,
   "metadata": {},
   "outputs": [],
   "source": []
  },
  {
   "cell_type": "code",
   "execution_count": 5,
   "metadata": {},
   "outputs": [
    {
     "ename": "TypeError",
     "evalue": "initializer for ctype 'void * *' must be a cdata pointer, not _ctypes.PyCPointerType",
     "output_type": "error",
     "traceback": [
      "\u001b[1;31m---------------------------------------------------------------------------\u001b[0m",
      "\u001b[1;31mTypeError\u001b[0m                                 Traceback (most recent call last)",
      "\u001b[1;32m~\\AppData\\Local\\Temp\\ipykernel_41668\\1716964377.py\u001b[0m in \u001b[0;36m<module>\u001b[1;34m\u001b[0m\n\u001b[0;32m     38\u001b[0m \u001b[0merror\u001b[0m \u001b[1;33m=\u001b[0m \u001b[0mffi\u001b[0m\u001b[1;33m.\u001b[0m\u001b[0mnew\u001b[0m\u001b[1;33m(\u001b[0m\u001b[1;34m\"int *\"\u001b[0m\u001b[1;33m,\u001b[0m \u001b[1;36m0\u001b[0m\u001b[1;33m)\u001b[0m\u001b[1;33m\u001b[0m\u001b[1;33m\u001b[0m\u001b[0m\n\u001b[0;32m     39\u001b[0m \u001b[1;33m\u001b[0m\u001b[0m\n\u001b[1;32m---> 40\u001b[1;33m \u001b[0mmkl_pardiso\u001b[0m\u001b[1;33m.\u001b[0m\u001b[0mpardiso\u001b[0m\u001b[1;33m(\u001b[0m\u001b[0mpt\u001b[0m\u001b[1;33m,\u001b[0m \u001b[0mmaxfct\u001b[0m\u001b[1;33m,\u001b[0m \u001b[0mmnum\u001b[0m\u001b[1;33m,\u001b[0m \u001b[0mmtype\u001b[0m\u001b[1;33m,\u001b[0m \u001b[0mphase\u001b[0m\u001b[1;33m,\u001b[0m \u001b[0mn\u001b[0m\u001b[1;33m,\u001b[0m \u001b[0mpA\u001b[0m\u001b[1;33m,\u001b[0m \u001b[0mpia\u001b[0m\u001b[1;33m,\u001b[0m \u001b[0mpja\u001b[0m\u001b[1;33m,\u001b[0m \u001b[0mperm\u001b[0m\u001b[1;33m,\u001b[0m \u001b[0mnrhs\u001b[0m\u001b[1;33m,\u001b[0m \u001b[0miparm\u001b[0m\u001b[1;33m,\u001b[0m \u001b[0mdparm\u001b[0m\u001b[1;33m,\u001b[0m \u001b[0mpb\u001b[0m\u001b[1;33m,\u001b[0m \u001b[0mpx\u001b[0m\u001b[1;33m,\u001b[0m \u001b[0merror\u001b[0m\u001b[1;33m)\u001b[0m\u001b[1;33m\u001b[0m\u001b[1;33m\u001b[0m\u001b[0m\n\u001b[0m\u001b[0;32m     41\u001b[0m \u001b[1;33m\u001b[0m\u001b[0m\n",
      "\u001b[1;31mTypeError\u001b[0m: initializer for ctype 'void * *' must be a cdata pointer, not _ctypes.PyCPointerType"
     ]
    }
   ],
   "source": [
    "import cffi\n",
    "from ctypes.util import find_library\n",
    "import ctypes\n",
    "\n",
    "mkl_rt = find_library('mkl_rt.1')\n",
    "\n",
    "\n",
    "ffi = cffi.FFI()\n",
    "ffi.cdef(\"int pardiso (void *pt[64], int *maxfct, int *mnum, int *mtype, int *phase, int *n, double *a, int *ia, int *ja, int *perm, int *nrhs, int *iparm, double *dparm, double *b, double *x, int *error);\")\n",
    "mkl_pardiso = ffi.dlopen(mkl_rt)\n",
    "\n",
    "a = sp.coo_matrix(A_de).data\n",
    "ia = sp.coo_matrix(A_de).row\n",
    "ja =sp.coo_matrix(A_de).col\n",
    "\n",
    "pA = ffi.from_buffer(A_sp.data)\n",
    "pia = ffi.from_buffer(A_sp.indices)\n",
    "pja = ffi.from_buffer(A_sp.indptr)\n",
    "\n",
    "pb = ffi.from_buffer(b_sp)\n",
    "px = ffi.from_buffer(np.copy(b_sp))\n",
    "\n",
    "pt_type = (ctypes.c_int64, np.int64)\n",
    "\n",
    "pt = ffi.new(\"void *[64]\")\n",
    "pt = ctypes.POINTER(pt_type[0])\n",
    "maxfct = ffi.new(\"int *\", 1)\n",
    "mnum = ffi.new(\"int *\", 1)\n",
    "mtype = ffi.new(\"int *\", 11)\n",
    "phase = ffi.new(\"int *\", 13)\n",
    "n = ffi.new(\"int *\", A_sp.shape[0])\n",
    "perm = ffi.new(\"int []\", A_sp.shape[0])\n",
    "nrhs = ffi.new(\"int *\", 1)\n",
    "iparm = ffi.new(\"int []\", 64)\n",
    "dparm = ffi.new(\"double []\", 64)\n",
    "#b = ffi.new(\"double []\", b_sp)\n",
    "#x = ffi.new(\"double []\", np.copy(b_sp))\n",
    "error = ffi.new(\"int *\", 0)\n",
    "\n",
    "mkl_pardiso.pardiso(pt, maxfct, mnum, mtype, phase, n, pA, pia, pja, perm, nrhs, iparm, dparm, pb, px, error)\n",
    "\n"
   ]
  },
  {
   "cell_type": "code",
   "execution_count": 9,
   "metadata": {},
   "outputs": [
    {
     "ename": "NameError",
     "evalue": "name 'c_int' is not defined",
     "output_type": "error",
     "traceback": [
      "\u001b[1;31m---------------------------------------------------------------------------\u001b[0m",
      "\u001b[1;31mNameError\u001b[0m                                 Traceback (most recent call last)",
      "\u001b[1;32m~\\AppData\\Local\\Temp\\ipykernel_24676\\2916494125.py\u001b[0m in \u001b[0;36m<module>\u001b[1;34m\u001b[0m\n\u001b[0;32m      3\u001b[0m \u001b[1;32mfrom\u001b[0m \u001b[0mctypes\u001b[0m \u001b[1;32mimport\u001b[0m \u001b[0mc_int\u001b[0m\u001b[1;33m,\u001b[0m \u001b[0mc_void_p\u001b[0m\u001b[1;33m,\u001b[0m \u001b[0mc_double\u001b[0m\u001b[1;33m\u001b[0m\u001b[1;33m\u001b[0m\u001b[0m\n\u001b[0;32m      4\u001b[0m \u001b[1;33m\u001b[0m\u001b[0m\n\u001b[1;32m----> 5\u001b[1;33m \u001b[0mpardiso_sig\u001b[0m \u001b[1;33m=\u001b[0m \u001b[0mnumba\u001b[0m\u001b[1;33m.\u001b[0m\u001b[0mcfunc\u001b[0m\u001b[1;33m(\u001b[0m\u001b[1;34m\"c_int, c_int, c_int, c_int, c_int, c_void_p, c_int, c_void_p, c_int, c_int, c_int, c_int, c_int, c_void_p, c_void_p, c_void_p\"\u001b[0m\u001b[1;33m)\u001b[0m\u001b[1;33m\u001b[0m\u001b[1;33m\u001b[0m\u001b[0m\n\u001b[0m",
      "\u001b[1;32mc:\\Users\\jmmau\\anaconda3\\lib\\site-packages\\numba\\core\\decorators.py\u001b[0m in \u001b[0;36mcfunc\u001b[1;34m(sig, locals, cache, pipeline_class, **options)\u001b[0m\n\u001b[0;32m    270\u001b[0m \u001b[1;33m\u001b[0m\u001b[0m\n\u001b[0;32m    271\u001b[0m     \"\"\"\n\u001b[1;32m--> 272\u001b[1;33m     \u001b[0msig\u001b[0m \u001b[1;33m=\u001b[0m \u001b[0msigutils\u001b[0m\u001b[1;33m.\u001b[0m\u001b[0mnormalize_signature\u001b[0m\u001b[1;33m(\u001b[0m\u001b[0msig\u001b[0m\u001b[1;33m)\u001b[0m\u001b[1;33m\u001b[0m\u001b[1;33m\u001b[0m\u001b[0m\n\u001b[0m\u001b[0;32m    273\u001b[0m \u001b[1;33m\u001b[0m\u001b[0m\n\u001b[0;32m    274\u001b[0m     \u001b[1;32mdef\u001b[0m \u001b[0mwrapper\u001b[0m\u001b[1;33m(\u001b[0m\u001b[0mfunc\u001b[0m\u001b[1;33m)\u001b[0m\u001b[1;33m:\u001b[0m\u001b[1;33m\u001b[0m\u001b[1;33m\u001b[0m\u001b[0m\n",
      "\u001b[1;32mc:\\Users\\jmmau\\anaconda3\\lib\\site-packages\\numba\\core\\sigutils.py\u001b[0m in \u001b[0;36mnormalize_signature\u001b[1;34m(sig)\u001b[0m\n\u001b[0;32m     27\u001b[0m     \"\"\"\n\u001b[0;32m     28\u001b[0m     \u001b[1;32mif\u001b[0m \u001b[0misinstance\u001b[0m\u001b[1;33m(\u001b[0m\u001b[0msig\u001b[0m\u001b[1;33m,\u001b[0m \u001b[0mstr\u001b[0m\u001b[1;33m)\u001b[0m\u001b[1;33m:\u001b[0m\u001b[1;33m\u001b[0m\u001b[1;33m\u001b[0m\u001b[0m\n\u001b[1;32m---> 29\u001b[1;33m         \u001b[0mparsed\u001b[0m \u001b[1;33m=\u001b[0m \u001b[0m_parse_signature_string\u001b[0m\u001b[1;33m(\u001b[0m\u001b[0msig\u001b[0m\u001b[1;33m)\u001b[0m\u001b[1;33m\u001b[0m\u001b[1;33m\u001b[0m\u001b[0m\n\u001b[0m\u001b[0;32m     30\u001b[0m     \u001b[1;32melse\u001b[0m\u001b[1;33m:\u001b[0m\u001b[1;33m\u001b[0m\u001b[1;33m\u001b[0m\u001b[0m\n\u001b[0;32m     31\u001b[0m         \u001b[0mparsed\u001b[0m \u001b[1;33m=\u001b[0m \u001b[0msig\u001b[0m\u001b[1;33m\u001b[0m\u001b[1;33m\u001b[0m\u001b[0m\n",
      "\u001b[1;32mc:\\Users\\jmmau\\anaconda3\\lib\\site-packages\\numba\\core\\sigutils.py\u001b[0m in \u001b[0;36m_parse_signature_string\u001b[1;34m(signature_str)\u001b[0m\n\u001b[0;32m     17\u001b[0m     \"\"\"\n\u001b[0;32m     18\u001b[0m     \u001b[1;31m# Just eval signature_str using the types submodules as globals\u001b[0m\u001b[1;33m\u001b[0m\u001b[1;33m\u001b[0m\u001b[0m\n\u001b[1;32m---> 19\u001b[1;33m     \u001b[1;32mreturn\u001b[0m \u001b[0meval\u001b[0m\u001b[1;33m(\u001b[0m\u001b[0msignature_str\u001b[0m\u001b[1;33m,\u001b[0m \u001b[1;33m{\u001b[0m\u001b[1;33m}\u001b[0m\u001b[1;33m,\u001b[0m \u001b[0mtypes\u001b[0m\u001b[1;33m.\u001b[0m\u001b[0m__dict__\u001b[0m\u001b[1;33m)\u001b[0m\u001b[1;33m\u001b[0m\u001b[1;33m\u001b[0m\u001b[0m\n\u001b[0m\u001b[0;32m     20\u001b[0m \u001b[1;33m\u001b[0m\u001b[0m\n\u001b[0;32m     21\u001b[0m \u001b[1;33m\u001b[0m\u001b[0m\n",
      "\u001b[1;32m<string>\u001b[0m in \u001b[0;36m<module>\u001b[1;34m\u001b[0m\n",
      "\u001b[1;31mNameError\u001b[0m: name 'c_int' is not defined"
     ]
    }
   ],
   "source": [
    "import numba\n",
    "\n",
    "from ctypes import c_int, c_void_p, c_double\n",
    "\n",
    "pardiso_sig = numba.cfunc(\"c_int, c_int, c_int, c_int, c_int, c_void_p, c_int, c_void_p, c_int, c_int, c_int, c_int, c_int, c_void_p, c_void_p, c_void_p\")\n"
   ]
  },
  {
   "cell_type": "code",
   "execution_count": 19,
   "metadata": {},
   "outputs": [
    {
     "name": "stdout",
     "output_type": "stream",
     "text": [
      "2.23 ms ± 252 µs per loop (mean ± std. dev. of 7 runs, 1 loop each)\n"
     ]
    }
   ],
   "source": [
    "%timeit pypardiso.spsolve(A_sp, b_sp)\n",
    "#pypardiso.spsolve(A_sp, b_sp)"
   ]
  },
  {
   "cell_type": "code",
   "execution_count": 10,
   "metadata": {},
   "outputs": [],
   "source": [
    "from numba import cfunc, types, carray\n",
    "\n",
    "c_sig = types.void(types.CPointer(types.double),\n",
    "                   types.CPointer(types.double),\n",
    "                   types.intc, types.intc)\n",
    "\n",
    "@cfunc(c_sig)\n",
    "def my_callback(in_, out, m, n):\n",
    "    in_array = carray(in_, (m, n))\n",
    "    out_array = carray(out, (m, n))\n",
    "    for i in range(m):\n",
    "        for j in range(n):\n",
    "            out_array[i, j] = 2 * in_array[i, j]"
   ]
  },
  {
   "cell_type": "code",
   "execution_count": null,
   "metadata": {},
   "outputs": [],
   "source": [
    "c_sig = types.void(types.CPointer(types.double),\n",
    "                   types.CPointer(types.double),\n",
    "                   types.intc, types.intc)\n",
    "                   \n",
    "# Initialize the MKL Pardiso solver\n",
    "iparm = ffi.new(\"int[64]\")\n",
    "pt = ffi.new(\"int[16]\")\n",
    "mtype = ffi.new(\"int *\", 11)  # Matrix type: real symmetric indefinite\n",
    "#mkl_pardiso.pardisoinit(pt, mtype, iparm)\n",
    "\n",
    "N = 5\n",
    "A_sp = sp.rand(N, N, density=1, format='csr')\n",
    "b_sp = np.random.rand(N)\n",
    "\n",
    "\n",
    "\n",
    "# Set the parameters for the MKL Pardiso solver\n",
    "maxfct = ffi.new(\"int *\", 1)\n",
    "mnum = ffi.new(\"int *\", 1)\n",
    "phase = ffi.new(\"int *\", 13)  # Analysis and factorization\n",
    "n = ffi.new(\"int *\", A_sp.shape[0])\n",
    "a = ffi.new(f\"double[{len(A_sp.data)}]\", list(A_sp.data))\n",
    "ia = ffi.new(f\"int[{len(A_sp.indptr)}]\", list(A_sp.indptr+1))\n",
    "ja = ffi.new(f\"int[{len(A_sp.indices)}]\", list(A_sp.indices+1))\n",
    "perm = ffi.new(f\"int[{len(b_sp)}]\")\n",
    "nrhs = ffi.new(\"int *\", 1)\n",
    "msglvl = ffi.new(\"int *\", 0)\n",
    "b = ffi.new(f\"double[{len(b_sp)}]\", list(b_sp))\n",
    "x = ffi.new(f\"double[{len(b_sp)}]\")\n",
    "error = ffi.new(\"int *\")"
   ]
  },
  {
   "cell_type": "code",
   "execution_count": 5,
   "metadata": {},
   "outputs": [
    {
     "ename": "TypingError",
     "evalue": "Failed in nopython mode pipeline (step: nopython frontend)\n\u001b[1m\u001b[1mnon-precise type pyobject\u001b[0m\n\u001b[0m\u001b[1mDuring: typing of argument at C:\\Users\\jmmau\\AppData\\Local\\Temp\\ipykernel_25088\\1270778715.py (3)\u001b[0m\n\u001b[1m\nFile \"..\\..\\..\\AppData\\Local\\Temp\\ipykernel_25088\\1270778715.py\", line 3:\u001b[0m\n\u001b[1m<source missing, REPL/exec in use?>\u001b[0m \n\nThis error may have been caused by the following argument(s):\n- argument 0: \u001b[1mCannot determine Numba type of <class 'scipy.sparse._csr.csr_matrix'>\u001b[0m\n",
     "output_type": "error",
     "traceback": [
      "\u001b[1;31m---------------------------------------------------------------------------\u001b[0m",
      "\u001b[1;31mTypingError\u001b[0m                               Traceback (most recent call last)",
      "\u001b[1;32m~\\AppData\\Local\\Temp\\ipykernel_25088\\1270778715.py\u001b[0m in \u001b[0;36m<module>\u001b[1;34m\u001b[0m\n\u001b[0;32m      3\u001b[0m     \u001b[0mpypardiso\u001b[0m\u001b[1;33m.\u001b[0m\u001b[0mspsolve\u001b[0m\u001b[1;33m(\u001b[0m\u001b[0mA_sp\u001b[0m\u001b[1;33m,\u001b[0m \u001b[0mb_sp\u001b[0m\u001b[1;33m)\u001b[0m\u001b[1;33m\u001b[0m\u001b[1;33m\u001b[0m\u001b[0m\n\u001b[0;32m      4\u001b[0m \u001b[1;33m\u001b[0m\u001b[0m\n\u001b[1;32m----> 5\u001b[1;33m \u001b[0mpardiso\u001b[0m\u001b[1;33m(\u001b[0m\u001b[0mA_sp\u001b[0m\u001b[1;33m,\u001b[0m\u001b[0mb_sp\u001b[0m\u001b[1;33m)\u001b[0m\u001b[1;33m\u001b[0m\u001b[1;33m\u001b[0m\u001b[0m\n\u001b[0m",
      "\u001b[1;32mc:\\Users\\jmmau\\anaconda3\\lib\\site-packages\\numba\\core\\dispatcher.py\u001b[0m in \u001b[0;36m_compile_for_args\u001b[1;34m(self, *args, **kws)\u001b[0m\n\u001b[0;32m    466\u001b[0m                 \u001b[0me\u001b[0m\u001b[1;33m.\u001b[0m\u001b[0mpatch_message\u001b[0m\u001b[1;33m(\u001b[0m\u001b[0mmsg\u001b[0m\u001b[1;33m)\u001b[0m\u001b[1;33m\u001b[0m\u001b[1;33m\u001b[0m\u001b[0m\n\u001b[0;32m    467\u001b[0m \u001b[1;33m\u001b[0m\u001b[0m\n\u001b[1;32m--> 468\u001b[1;33m             \u001b[0merror_rewrite\u001b[0m\u001b[1;33m(\u001b[0m\u001b[0me\u001b[0m\u001b[1;33m,\u001b[0m \u001b[1;34m'typing'\u001b[0m\u001b[1;33m)\u001b[0m\u001b[1;33m\u001b[0m\u001b[1;33m\u001b[0m\u001b[0m\n\u001b[0m\u001b[0;32m    469\u001b[0m         \u001b[1;32mexcept\u001b[0m \u001b[0merrors\u001b[0m\u001b[1;33m.\u001b[0m\u001b[0mUnsupportedError\u001b[0m \u001b[1;32mas\u001b[0m \u001b[0me\u001b[0m\u001b[1;33m:\u001b[0m\u001b[1;33m\u001b[0m\u001b[1;33m\u001b[0m\u001b[0m\n\u001b[0;32m    470\u001b[0m             \u001b[1;31m# Something unsupported is present in the user code, add help info\u001b[0m\u001b[1;33m\u001b[0m\u001b[1;33m\u001b[0m\u001b[0m\n",
      "\u001b[1;32mc:\\Users\\jmmau\\anaconda3\\lib\\site-packages\\numba\\core\\dispatcher.py\u001b[0m in \u001b[0;36merror_rewrite\u001b[1;34m(e, issue_type)\u001b[0m\n\u001b[0;32m    407\u001b[0m                 \u001b[1;32mraise\u001b[0m \u001b[0me\u001b[0m\u001b[1;33m\u001b[0m\u001b[1;33m\u001b[0m\u001b[0m\n\u001b[0;32m    408\u001b[0m             \u001b[1;32melse\u001b[0m\u001b[1;33m:\u001b[0m\u001b[1;33m\u001b[0m\u001b[1;33m\u001b[0m\u001b[0m\n\u001b[1;32m--> 409\u001b[1;33m                 \u001b[1;32mraise\u001b[0m \u001b[0me\u001b[0m\u001b[1;33m.\u001b[0m\u001b[0mwith_traceback\u001b[0m\u001b[1;33m(\u001b[0m\u001b[1;32mNone\u001b[0m\u001b[1;33m)\u001b[0m\u001b[1;33m\u001b[0m\u001b[1;33m\u001b[0m\u001b[0m\n\u001b[0m\u001b[0;32m    410\u001b[0m \u001b[1;33m\u001b[0m\u001b[0m\n\u001b[0;32m    411\u001b[0m         \u001b[0margtypes\u001b[0m \u001b[1;33m=\u001b[0m \u001b[1;33m[\u001b[0m\u001b[1;33m]\u001b[0m\u001b[1;33m\u001b[0m\u001b[1;33m\u001b[0m\u001b[0m\n",
      "\u001b[1;31mTypingError\u001b[0m: Failed in nopython mode pipeline (step: nopython frontend)\n\u001b[1m\u001b[1mnon-precise type pyobject\u001b[0m\n\u001b[0m\u001b[1mDuring: typing of argument at C:\\Users\\jmmau\\AppData\\Local\\Temp\\ipykernel_25088\\1270778715.py (3)\u001b[0m\n\u001b[1m\nFile \"..\\..\\..\\AppData\\Local\\Temp\\ipykernel_25088\\1270778715.py\", line 3:\u001b[0m\n\u001b[1m<source missing, REPL/exec in use?>\u001b[0m \n\nThis error may have been caused by the following argument(s):\n- argument 0: \u001b[1mCannot determine Numba type of <class 'scipy.sparse._csr.csr_matrix'>\u001b[0m\n"
     ]
    }
   ],
   "source": [
    "@numba.njit()\n",
    "def pardiso(A_sp,b_sp):\n",
    "    pypardiso.spsolve(A_sp, b_sp)\n",
    "\n",
    "pardiso(A_sp,b_sp)"
   ]
  },
  {
   "cell_type": "code",
   "execution_count": null,
   "metadata": {},
   "outputs": [],
   "source": [
    "gmres(A_sp, b_sp)"
   ]
  },
  {
   "cell_type": "code",
   "execution_count": null,
   "metadata": {},
   "outputs": [],
   "source": []
  },
  {
   "cell_type": "code",
   "execution_count": 2,
   "metadata": {},
   "outputs": [],
   "source": [
    "import mkl\n"
   ]
  },
  {
   "cell_type": "code",
   "execution_count": 9,
   "metadata": {},
   "outputs": [],
   "source": [
    "from ctypes.util import find_library\n",
    "import ctypes"
   ]
  },
  {
   "cell_type": "markdown",
   "metadata": {},
   "source": [
    "### Working with ctypes"
   ]
  },
  {
   "cell_type": "code",
   "execution_count": 1,
   "metadata": {},
   "outputs": [
    {
     "ename": "NameError",
     "evalue": "name 'find_library' is not defined",
     "output_type": "error",
     "traceback": [
      "\u001b[1;31m---------------------------------------------------------------------------\u001b[0m",
      "\u001b[1;31mNameError\u001b[0m                                 Traceback (most recent call last)",
      "\u001b[1;32m~\\AppData\\Local\\Temp\\ipykernel_32848\\376059779.py\u001b[0m in \u001b[0;36m<module>\u001b[1;34m\u001b[0m\n\u001b[1;32m----> 1\u001b[1;33m \u001b[0mmkl_rt\u001b[0m \u001b[1;33m=\u001b[0m \u001b[0mfind_library\u001b[0m\u001b[1;33m(\u001b[0m\u001b[1;34m'mkl_rt.1'\u001b[0m\u001b[1;33m)\u001b[0m\u001b[1;33m\u001b[0m\u001b[1;33m\u001b[0m\u001b[0m\n\u001b[0m\u001b[0;32m      2\u001b[0m \u001b[0mlibmkl\u001b[0m \u001b[1;33m=\u001b[0m \u001b[0mctypes\u001b[0m\u001b[1;33m.\u001b[0m\u001b[0mCDLL\u001b[0m\u001b[1;33m(\u001b[0m\u001b[0mmkl_rt\u001b[0m\u001b[1;33m)\u001b[0m\u001b[1;33m\u001b[0m\u001b[1;33m\u001b[0m\u001b[0m\n\u001b[0;32m      3\u001b[0m \u001b[1;33m\u001b[0m\u001b[0m\n\u001b[0;32m      4\u001b[0m \u001b[0mmkl_pardiso\u001b[0m \u001b[1;33m=\u001b[0m \u001b[0mlibmkl\u001b[0m\u001b[1;33m.\u001b[0m\u001b[0mpardiso\u001b[0m\u001b[1;33m\u001b[0m\u001b[1;33m\u001b[0m\u001b[0m\n\u001b[0;32m      5\u001b[0m \u001b[1;33m\u001b[0m\u001b[0m\n",
      "\u001b[1;31mNameError\u001b[0m: name 'find_library' is not defined"
     ]
    }
   ],
   "source": [
    "mkl_rt = find_library('mkl_rt.1')\n",
    "libmkl = ctypes.CDLL(mkl_rt)\n",
    "\n",
    "mkl_pardiso = libmkl.pardiso\n",
    "\n",
    "pt_type = (ctypes.c_int64, np.int64)\n",
    "\n",
    "mkl_pardiso.argtypes = [ctypes.POINTER(pt_type[0]),    # pt\n",
    "                                      ctypes.POINTER(ctypes.c_int32),      # maxfct\n",
    "                                      ctypes.POINTER(ctypes.c_int32),      # mnum\n",
    "                                      ctypes.POINTER(ctypes.c_int32),      # mtype\n",
    "                                      ctypes.POINTER(ctypes.c_int32),      # phase\n",
    "                                      ctypes.POINTER(ctypes.c_int32),      # n\n",
    "                                      ctypes.POINTER(None),                # a\n",
    "                                      ctypes.POINTER(ctypes.c_int32),      # ia\n",
    "                                      ctypes.POINTER(ctypes.c_int32),      # ja\n",
    "                                      ctypes.POINTER(ctypes.c_int32),      # perm\n",
    "                                      ctypes.POINTER(ctypes.c_int32),      # nrhs\n",
    "                                      ctypes.POINTER(ctypes.c_int32),      # iparm\n",
    "                                      ctypes.POINTER(ctypes.c_int32),      # msglvl\n",
    "                                      ctypes.POINTER(None),                # b\n",
    "                                      ctypes.POINTER(None),                # x\n",
    "                                      ctypes.POINTER(ctypes.c_int32)]      # error\n",
    "\n",
    "mtype=11\n",
    "phase=13\n",
    "size_limit_storage=5e7\n",
    "\n",
    "mkl_pardiso.restype = None\n",
    "\n",
    "pt = np.zeros(64, dtype=pt_type[1])\n",
    "iparm = np.zeros(64, dtype=np.int32)\n",
    "perm = np.zeros(0, dtype=np.int32)\n",
    "\n",
    "mtype = mtype\n",
    "phase = phase\n",
    "msglvl = False\n",
    "\n",
    "factorized_A = sp.csr_matrix((0, 0))\n",
    "size_limit_storage = size_limit_storage\n",
    "_solve_transposed = False\n",
    "\n",
    "x = np.zeros_like(b_sp)\n",
    "pardiso_error = ctypes.c_int32(0)\n",
    "c_int32_p = ctypes.POINTER(ctypes.c_int32)\n",
    "c_float64_p = ctypes.POINTER(ctypes.c_double)\n",
    "A = A_sp\n",
    "b = b_sp\n",
    "\n",
    "ia = A.indptr + 1\n",
    "ja = A.indices + 1\n",
    "\n",
    "mkl_pardiso(pt.ctypes.data_as(ctypes.POINTER(pt_type[0])),  # pt\n",
    "                          ctypes.byref(ctypes.c_int32(1)),  # maxfct\n",
    "                          ctypes.byref(ctypes.c_int32(1)),  # mnum\n",
    "                          ctypes.byref(ctypes.c_int32(mtype)),  # mtype -> 11 for real-nonsymetric\n",
    "                          ctypes.byref(ctypes.c_int32(phase)),  # phase -> 13\n",
    "                          ctypes.byref(ctypes.c_int32(A.shape[0])),  # N -> number of equations/size of matrix\n",
    "                          A.data.ctypes.data_as(c_float64_p),  # A -> non-zero entries in matrix\n",
    "                          ia.ctypes.data_as(c_int32_p),  # ia -> csr-indptr\n",
    "                          ja.ctypes.data_as(c_int32_p),  # ja -> csr-indices\n",
    "                          perm.ctypes.data_as(c_int32_p),  # perm -> empty\n",
    "                          ctypes.byref(ctypes.c_int32(1 if b.ndim == 1 else b.shape[1])),  # nrhs\n",
    "                          iparm.ctypes.data_as(c_int32_p),  # iparm-array\n",
    "                          ctypes.byref(ctypes.c_int32(msglvl)),  # msg-level -> 1: statistical info is printed\n",
    "                          b_sp.ctypes.data_as(c_float64_p),  # b -> right-hand side vector/matrix\n",
    "                          x.ctypes.data_as(c_float64_p),  # x -> output\n",
    "                          ctypes.byref(pardiso_error))  # pardiso error\n",
    "\n",
    "x\n"
   ]
  },
  {
   "cell_type": "code",
   "execution_count": 17,
   "metadata": {},
   "outputs": [
    {
     "data": {
      "text/plain": [
       "<function mkl._py_mkl_service.set_num_stripes>"
      ]
     },
     "execution_count": 17,
     "metadata": {},
     "output_type": "execute_result"
    }
   ],
   "source": [
    "import mkl\n",
    "mkl.set_num_stripes"
   ]
  },
  {
   "cell_type": "code",
   "execution_count": 11,
   "metadata": {},
   "outputs": [
    {
     "ename": "NameError",
     "evalue": "name 'np' is not defined",
     "output_type": "error",
     "traceback": [
      "\u001b[1;31m---------------------------------------------------------------------------\u001b[0m",
      "\u001b[1;31mNameError\u001b[0m                                 Traceback (most recent call last)",
      "\u001b[1;32m~\\AppData\\Local\\Temp\\ipykernel_24676\\3374075251.py\u001b[0m in \u001b[0;36m<module>\u001b[1;34m\u001b[0m\n\u001b[0;32m      4\u001b[0m \u001b[0mmkl_pardiso\u001b[0m \u001b[1;33m=\u001b[0m \u001b[0mlibmkl\u001b[0m\u001b[1;33m.\u001b[0m\u001b[0mpardiso\u001b[0m\u001b[1;33m\u001b[0m\u001b[1;33m\u001b[0m\u001b[0m\n\u001b[0;32m      5\u001b[0m \u001b[1;33m\u001b[0m\u001b[0m\n\u001b[1;32m----> 6\u001b[1;33m \u001b[0mpt_type\u001b[0m \u001b[1;33m=\u001b[0m \u001b[1;33m(\u001b[0m\u001b[0mctypes\u001b[0m\u001b[1;33m.\u001b[0m\u001b[0mc_int64\u001b[0m\u001b[1;33m,\u001b[0m \u001b[0mnp\u001b[0m\u001b[1;33m.\u001b[0m\u001b[0mint64\u001b[0m\u001b[1;33m)\u001b[0m\u001b[1;33m\u001b[0m\u001b[1;33m\u001b[0m\u001b[0m\n\u001b[0m\u001b[0;32m      7\u001b[0m \u001b[1;33m\u001b[0m\u001b[0m\n\u001b[0;32m      8\u001b[0m \u001b[0mmaxfct\u001b[0m \u001b[1;33m=\u001b[0m \u001b[0mnp\u001b[0m\u001b[1;33m.\u001b[0m\u001b[0marray\u001b[0m\u001b[1;33m(\u001b[0m\u001b[1;33m[\u001b[0m\u001b[1;36m1\u001b[0m\u001b[1;33m]\u001b[0m\u001b[1;33m,\u001b[0m\u001b[0mdtype\u001b[0m\u001b[1;33m=\u001b[0m\u001b[0mnp\u001b[0m\u001b[1;33m.\u001b[0m\u001b[0mint32\u001b[0m\u001b[1;33m)\u001b[0m\u001b[1;33m\u001b[0m\u001b[1;33m\u001b[0m\u001b[0m\n",
      "\u001b[1;31mNameError\u001b[0m: name 'np' is not defined"
     ]
    }
   ],
   "source": [
    "mkl_rt = find_library('mkl_rt.1')\n",
    "libmkl = ctypes.CDLL(mkl_rt)\n",
    "\n",
    "mkl_pardiso = libmkl.pardiso\n",
    "\n",
    "pt_type = (ctypes.c_int64, np.int64)\n",
    "\n",
    "maxfct = np.array([1],dtype=np.int32)\n",
    "p_maxfct = ffi.from_buffer(maxfct)\n",
    "\n",
    "mkl_pardiso.argtypes = [ctypes.POINTER(pt_type[0]),    # pt\n",
    "                                      ctypes.POINTER(ctypes.c_int32),      # maxfct\n",
    "                                      ctypes.POINTER(ctypes.c_int32),      # mnum\n",
    "                                      ctypes.POINTER(ctypes.c_int32),      # mtype\n",
    "                                      ctypes.POINTER(ctypes.c_int32),      # phase\n",
    "                                      ctypes.POINTER(ctypes.c_int32),      # n\n",
    "                                      ctypes.POINTER(None),                # a\n",
    "                                      ctypes.POINTER(ctypes.c_int32),      # ia\n",
    "                                      ctypes.POINTER(ctypes.c_int32),      # ja\n",
    "                                      ctypes.POINTER(ctypes.c_int32),      # perm\n",
    "                                      ctypes.POINTER(ctypes.c_int32),      # nrhs\n",
    "                                      ctypes.POINTER(ctypes.c_int32),      # iparm\n",
    "                                      ctypes.POINTER(ctypes.c_int32),      # msglvl\n",
    "                                      ctypes.POINTER(None),                # b\n",
    "                                      ctypes.POINTER(None),                # x\n",
    "                                      ctypes.POINTER(ctypes.c_int32)]      # error\n",
    "\n",
    "mtype=11\n",
    "phase=13\n",
    "size_limit_storage=5e7\n",
    "\n",
    "mkl_pardiso.restype = None\n",
    "\n",
    "pt = np.zeros(64, dtype=pt_type[1])\n",
    "iparm = np.zeros(64, dtype=np.int32)\n",
    "perm = np.zeros(0, dtype=np.int32)\n",
    "\n",
    "mtype = mtype\n",
    "phase = phase\n",
    "msglvl = False\n",
    "\n",
    "factorized_A = sp.csr_matrix((0, 0))\n",
    "size_limit_storage = size_limit_storage\n",
    "_solve_transposed = False\n",
    "\n",
    "x = np.zeros_like(b_sp)\n",
    "pardiso_error = ctypes.c_int32(0)\n",
    "c_int32_p = ctypes.POINTER(ctypes.c_int32)\n",
    "c_float64_p = ctypes.POINTER(ctypes.c_double)\n",
    "A = A_sp\n",
    "b = b_sp\n",
    "\n",
    "ia = A.indptr + 1\n",
    "ja = A.indices + 1\n",
    "\n",
    "def eval_mkl(A_data,A_shape):\n",
    "    #pt_type = (ctypes.c_int64, np.int64)\n",
    "    pardiso_error = ctypes.c_void_p(1)\n",
    "    # c_int32_p = ctypes.POINTER(ctypes.c_int32)\n",
    "    # c_float64_p = ctypes.POINTER(ctypes.c_double)\n",
    "    # mkl_pardiso(pt.ctypes.data_as(ctypes.POINTER(ctypes.c_int64)),  # pt\n",
    "    #                         ctypes.byref(ctypes.c_int32(1)),  # maxfct\n",
    "    #                         ctypes.byref(ctypes.c_int32(1)),  # mnum\n",
    "    #                         ctypes.byref(ctypes.c_int32(11)),  # mtype -> 11 for real-nonsymetric\n",
    "    #                         ctypes.byref(ctypes.c_int32(13)),  # phase -> 13\n",
    "    #                         ctypes.byref(ctypes.c_int32(A_shape)),  # N -> number of equations/size of matrix\n",
    "    #                         A_data.ctypes.data_as(c_float64_p),  # A -> non-zero entries in matrix\n",
    "    #                         ia.ctypes.data_as(c_int32_p),  # ia -> csr-indptr\n",
    "    #                         ja.ctypes.data_as(c_int32_p),  # ja -> csr-indices\n",
    "    #                         perm.ctypes.data_as(c_int32_p),  # perm -> empty\n",
    "    #                         ctypes.byref(ctypes.c_int32(1)),  # nrhs\n",
    "    #                         iparm.ctypes.data_as(c_int32_p),  # iparm-array\n",
    "    #                         ctypes.byref(ctypes.c_int32(1)),  # msg-level -> 1: statistical info is printed\n",
    "    #                         b_sp.ctypes.data_as(c_float64_p),  # b -> right-hand side vector/matrix\n",
    "    #                         x.ctypes.data_as(c_float64_p),  # x -> output\n",
    "    #                         ctypes.byref(pardiso_error))  # pardiso error\n",
    "\n",
    "    # return x\n",
    "\n",
    "maxfct = ctypes.byref(ctypes.c_int32(1))\n",
    "mnum = ctypes.byref(ctypes.c_int32(1)),  # mnum\n",
    "mtype = ctypes.byref(ctypes.c_int32(mtype)),  # mtype -> 11 for real-nonsymetric\n",
    "phase = ctypes.byref(ctypes.c_int32(phase)),  # phase -> 13\n",
    "N = ctypes.byref(ctypes.c_int32(A.shape[0])),  # N -> number of equations/size of matrix\n",
    "\n",
    "A_data = A_sp.data\n",
    "A_shape = A_sp.shape[0]\n",
    "eval_mkl(A_data,A_shape)"
   ]
  },
  {
   "cell_type": "code",
   "execution_count": 58,
   "metadata": {},
   "outputs": [
    {
     "data": {
      "text/plain": [
       "int32"
      ]
     },
     "execution_count": 58,
     "metadata": {},
     "output_type": "execute_result"
    }
   ],
   "source": [
    "numba.int32"
   ]
  },
  {
   "cell_type": "code",
   "execution_count": 1,
   "metadata": {},
   "outputs": [
    {
     "ename": "",
     "evalue": "",
     "output_type": "error",
     "traceback": [
      "\u001b[1;31mCanceled future for execute_request message before replies were done"
     ]
    },
    {
     "ename": "",
     "evalue": "",
     "output_type": "error",
     "traceback": [
      "\u001b[1;31mThe Kernel crashed while executing code in the the current cell or a previous cell. Please review the code in the cell(s) to identify a possible cause of the failure. Click <a href='https://aka.ms/vscodeJupyterKernelCrash'>here</a> for more info. View Jupyter <a href='command:jupyter.viewOutput'>log</a> for further details."
     ]
    }
   ],
   "source": [
    "from cffi import FFI\n",
    "import cffi\n",
    "from ctypes.util import find_library\n",
    "import ctypes\n",
    "\n",
    "mkl_rt = find_library('mkl_rt.1.dll')\n",
    "\n",
    "ffi = FFI()\n",
    "\n",
    "# Define the MKL Pardiso functions and variables\n",
    "ffi.cdef(\"\"\"\n",
    "    void pardisoinit (void   *pt, int    *mtype, int *iparm);\n",
    "    void pardiso     (void   *pt, int    *maxfct, int *mnum, int *mtype, int *phase,\n",
    "                      int    *n, double *a, int *ia, int *ja, int    *perm, int *nrhs,\n",
    "                      int    *iparm, int *msglvl, double *b, double *x, int *error);\n",
    "\"\"\")\n",
    "\n",
    "# Load the MKL Pardiso library\n",
    "mkl_pardiso = ffi.dlopen(mkl_rt)\n",
    "\n",
    "# Initialize the MKL Pardiso solver\n",
    "iparm = ffi.new(\"int[64]\")\n",
    "pt = ffi.new(\"int *\",10)\n",
    "mtype = ffi.new(\"int *\", -2)  # Matrix type: real symmetric indefinite\n",
    "#mkl_pardiso.pardisoinit(pt, mtype, iparm)\n",
    "\n",
    "# Set the parameters for the MKL Pardiso solver\n",
    "maxfct = ffi.new(\"int *\", 1)\n",
    "mnum = ffi.new(\"int *\", 1)\n",
    "phase = ffi.new(\"int *\", 13)  # Analysis and factorization\n",
    "n = ffi.new(\"int *\", 3)\n",
    "a = ffi.new(\"double[9]\", [4.0, 1.0, 2.0, 1.0, 3.0, 1.0, 2.0, 1.0, 4.0])\n",
    "ia = ffi.new(\"int[4]\", [1, 3, 4, 4])\n",
    "ja = ffi.new(\"int[9]\", [1, 2, 3, 1, 2, 3, 1, 2, 3])\n",
    "perm = ffi.new(\"int[3]\")\n",
    "nrhs = ffi.new(\"int *\", 1)\n",
    "msglvl = ffi.new(\"int *\", 0)\n",
    "b = ffi.new(\"double[3]\", [5.0, 7.0, 5.0])\n",
    "x = ffi.new(\"double[3]\")\n",
    "error = ffi.new(\"int *\")\n",
    "\n",
    "# Solve the linear system using MKL Pardiso\n",
    "mkl_pardiso.pardiso(pt, maxfct, mnum, mtype, phase, n, a, ia, ja, perm, nrhs, iparm, msglvl, b, x, error)\n",
    "print(x)  # Output: (1.0, 2.0, 2.0)\n",
    "\n",
    "# Print the solution\n",
    "print('hola')  # Output: (1.0, 2.0, 2.0)\n"
   ]
  },
  {
   "cell_type": "code",
   "execution_count": 16,
   "metadata": {},
   "outputs": [
    {
     "ename": "TypingError",
     "evalue": "Failed in nopython mode pipeline (step: nopython frontend)\n\u001b[1m\u001b[1mUnknown attribute 'ctypes' of type int64\n\u001b[1m\nFile \"..\\..\\..\\AppData\\Local\\Temp\\ipykernel_24676\\3464306246.py\", line 12:\u001b[0m\n\u001b[1m<source missing, REPL/exec in use?>\u001b[0m\n\u001b[0m\n\u001b[0m\u001b[1mDuring: typing of get attribute at C:\\Users\\jmmau\\AppData\\Local\\Temp\\ipykernel_24676\\3464306246.py (12)\u001b[0m\n\u001b[1m\nFile \"..\\..\\..\\AppData\\Local\\Temp\\ipykernel_24676\\3464306246.py\", line 12:\u001b[0m\n\u001b[1m<source missing, REPL/exec in use?>\u001b[0m\n",
     "output_type": "error",
     "traceback": [
      "\u001b[1;31m---------------------------------------------------------------------------\u001b[0m",
      "\u001b[1;31mTypingError\u001b[0m                               Traceback (most recent call last)",
      "\u001b[1;32m~\\AppData\\Local\\Temp\\ipykernel_24676\\3464306246.py\u001b[0m in \u001b[0;36m<module>\u001b[1;34m\u001b[0m\n\u001b[0;32m     26\u001b[0m \u001b[0mc_float64_p\u001b[0m \u001b[1;33m=\u001b[0m \u001b[0mctypes\u001b[0m\u001b[1;33m.\u001b[0m\u001b[0mPOINTER\u001b[0m\u001b[1;33m(\u001b[0m\u001b[0mctypes\u001b[0m\u001b[1;33m.\u001b[0m\u001b[0mc_double\u001b[0m\u001b[1;33m)\u001b[0m\u001b[1;33m\u001b[0m\u001b[1;33m\u001b[0m\u001b[0m\n\u001b[0;32m     27\u001b[0m \u001b[1;33m\u001b[0m\u001b[0m\n\u001b[1;32m---> 28\u001b[1;33m \u001b[0mcall_pardiso\u001b[0m\u001b[1;33m(\u001b[0m\u001b[0mA_sp\u001b[0m\u001b[1;33m.\u001b[0m\u001b[0mdata\u001b[0m\u001b[1;33m,\u001b[0m\u001b[0mA_sp\u001b[0m\u001b[1;33m.\u001b[0m\u001b[0mindices\u001b[0m\u001b[1;33m,\u001b[0m\u001b[0mA_sp\u001b[0m\u001b[1;33m.\u001b[0m\u001b[0mindptr\u001b[0m\u001b[1;33m,\u001b[0m\u001b[0mA_sp\u001b[0m\u001b[1;33m.\u001b[0m\u001b[0mshape\u001b[0m\u001b[1;33m[\u001b[0m\u001b[1;36m0\u001b[0m\u001b[1;33m]\u001b[0m\u001b[1;33m)\u001b[0m\u001b[1;33m\u001b[0m\u001b[1;33m\u001b[0m\u001b[0m\n\u001b[0m",
      "\u001b[1;32mc:\\Users\\jmmau\\anaconda3\\lib\\site-packages\\numba\\core\\dispatcher.py\u001b[0m in \u001b[0;36m_compile_for_args\u001b[1;34m(self, *args, **kws)\u001b[0m\n\u001b[0;32m    466\u001b[0m                 \u001b[0me\u001b[0m\u001b[1;33m.\u001b[0m\u001b[0mpatch_message\u001b[0m\u001b[1;33m(\u001b[0m\u001b[0mmsg\u001b[0m\u001b[1;33m)\u001b[0m\u001b[1;33m\u001b[0m\u001b[1;33m\u001b[0m\u001b[0m\n\u001b[0;32m    467\u001b[0m \u001b[1;33m\u001b[0m\u001b[0m\n\u001b[1;32m--> 468\u001b[1;33m             \u001b[0merror_rewrite\u001b[0m\u001b[1;33m(\u001b[0m\u001b[0me\u001b[0m\u001b[1;33m,\u001b[0m \u001b[1;34m'typing'\u001b[0m\u001b[1;33m)\u001b[0m\u001b[1;33m\u001b[0m\u001b[1;33m\u001b[0m\u001b[0m\n\u001b[0m\u001b[0;32m    469\u001b[0m         \u001b[1;32mexcept\u001b[0m \u001b[0merrors\u001b[0m\u001b[1;33m.\u001b[0m\u001b[0mUnsupportedError\u001b[0m \u001b[1;32mas\u001b[0m \u001b[0me\u001b[0m\u001b[1;33m:\u001b[0m\u001b[1;33m\u001b[0m\u001b[1;33m\u001b[0m\u001b[0m\n\u001b[0;32m    470\u001b[0m             \u001b[1;31m# Something unsupported is present in the user code, add help info\u001b[0m\u001b[1;33m\u001b[0m\u001b[1;33m\u001b[0m\u001b[0m\n",
      "\u001b[1;32mc:\\Users\\jmmau\\anaconda3\\lib\\site-packages\\numba\\core\\dispatcher.py\u001b[0m in \u001b[0;36merror_rewrite\u001b[1;34m(e, issue_type)\u001b[0m\n\u001b[0;32m    407\u001b[0m                 \u001b[1;32mraise\u001b[0m \u001b[0me\u001b[0m\u001b[1;33m\u001b[0m\u001b[1;33m\u001b[0m\u001b[0m\n\u001b[0;32m    408\u001b[0m             \u001b[1;32melse\u001b[0m\u001b[1;33m:\u001b[0m\u001b[1;33m\u001b[0m\u001b[1;33m\u001b[0m\u001b[0m\n\u001b[1;32m--> 409\u001b[1;33m                 \u001b[1;32mraise\u001b[0m \u001b[0me\u001b[0m\u001b[1;33m.\u001b[0m\u001b[0mwith_traceback\u001b[0m\u001b[1;33m(\u001b[0m\u001b[1;32mNone\u001b[0m\u001b[1;33m)\u001b[0m\u001b[1;33m\u001b[0m\u001b[1;33m\u001b[0m\u001b[0m\n\u001b[0m\u001b[0;32m    410\u001b[0m \u001b[1;33m\u001b[0m\u001b[0m\n\u001b[0;32m    411\u001b[0m         \u001b[0margtypes\u001b[0m \u001b[1;33m=\u001b[0m \u001b[1;33m[\u001b[0m\u001b[1;33m]\u001b[0m\u001b[1;33m\u001b[0m\u001b[1;33m\u001b[0m\u001b[0m\n",
      "\u001b[1;31mTypingError\u001b[0m: Failed in nopython mode pipeline (step: nopython frontend)\n\u001b[1m\u001b[1mUnknown attribute 'ctypes' of type int64\n\u001b[1m\nFile \"..\\..\\..\\AppData\\Local\\Temp\\ipykernel_24676\\3464306246.py\", line 12:\u001b[0m\n\u001b[1m<source missing, REPL/exec in use?>\u001b[0m\n\u001b[0m\n\u001b[0m\u001b[1mDuring: typing of get attribute at C:\\Users\\jmmau\\AppData\\Local\\Temp\\ipykernel_24676\\3464306246.py (12)\u001b[0m\n\u001b[1m\nFile \"..\\..\\..\\AppData\\Local\\Temp\\ipykernel_24676\\3464306246.py\", line 12:\u001b[0m\n\u001b[1m<source missing, REPL/exec in use?>\u001b[0m\n"
     ]
    }
   ],
   "source": [
    "@numba.njit()\n",
    "def call_pardiso(A_data,A_indices,A_indptr,A_shape):\n",
    "\n",
    "    pardiso_error = 0\n",
    "\n",
    "\n",
    "    mkl_pardiso(0,  # pt\n",
    "                           1,  # maxfct\n",
    "                           1,  # mnum\n",
    "                           11,  # mtype -> 11 for real-nonsymetric\n",
    "                           13,  # phase -> 13\n",
    "                           A_shape.ctypes.data_as(ctypes.POINTER(ctypes.c_uc_longlong)),  # N -> number of equations/size of matrix\n",
    "                           A_data,  # A -> non-zero entries in matrix\n",
    "                           A_indptr,  # ia -> csr-indptr\n",
    "                           A_indices,  # ja -> csr-indices\n",
    "                           perm,  # perm -> empty\n",
    "                           1,  # nrhs\n",
    "                           iparm,  # iparm-array\n",
    "                           1,  # msg-level -> 1: statistical info is printed\n",
    "                           b_sp,  # b -> right-hand side vector/matrix\n",
    "                           x,  # x -> output\n",
    "                           0)  # pardiso error\n",
    "\n",
    "\n",
    "c_int32_p = ctypes.POINTER(ctypes.c_int32)\n",
    "c_float64_p = ctypes.POINTER(ctypes.c_double)\n",
    "\n",
    "call_pardiso(A_sp.data,A_sp.indices,A_sp.indptr,A_sp.shape[0])"
   ]
  },
  {
   "cell_type": "code",
   "execution_count": 59,
   "metadata": {},
   "outputs": [
    {
     "data": {
      "text/plain": [
       "c_long(0)"
      ]
     },
     "execution_count": 59,
     "metadata": {},
     "output_type": "execute_result"
    }
   ],
   "source": [
    "pardiso_error"
   ]
  },
  {
   "cell_type": "code",
   "execution_count": 18,
   "metadata": {},
   "outputs": [
    {
     "name": "stdout",
     "output_type": "stream",
     "text": [
      "\u001b[1;31mCall signature:\u001b[0m \u001b[0mmkl_pardiso\u001b[0m\u001b[1;33m.\u001b[0m\u001b[0mpardiso\u001b[0m\u001b[1;33m(\u001b[0m\u001b[1;33m*\u001b[0m\u001b[0margs\u001b[0m\u001b[1;33m,\u001b[0m \u001b[1;33m**\u001b[0m\u001b[0mkwargs\u001b[0m\u001b[1;33m)\u001b[0m\u001b[1;33m\u001b[0m\u001b[1;33m\u001b[0m\u001b[0m\n",
      "\u001b[1;31mType:\u001b[0m           _CDataBase\n",
      "\u001b[1;31mString form:\u001b[0m    <cdata 'void(*)(void *, int *, int *, int *, int *, int *, double *, int *, int *, int *, int *, int *, int *, double *, double *, int *)' 0x00007FF826686720>\n",
      "\u001b[1;31mFile:\u001b[0m           c:\\users\\jmmau\\anaconda3\\lib\\site-packages\\_cffi_backend.cp39-win_amd64.pyd\n",
      "\u001b[1;31mDocstring:\u001b[0m      The internal base type for CData objects.  Use FFI.CData to access it.  Always check with isinstance(): subtypes are sometimes returned on CPython, for performance reasons.\n"
     ]
    }
   ],
   "source": [
    "mkl_pardiso.pardiso?"
   ]
  },
  {
   "cell_type": "code",
   "execution_count": 19,
   "metadata": {},
   "outputs": [
    {
     "ename": "",
     "evalue": "",
     "output_type": "error",
     "traceback": [
      "\u001b[1;31mCanceled future for execute_request message before replies were done"
     ]
    },
    {
     "ename": "",
     "evalue": "",
     "output_type": "error",
     "traceback": [
      "\u001b[1;31mThe Kernel crashed while executing code in the the current cell or a previous cell. Please review the code in the cell(s) to identify a possible cause of the failure. Click <a href='https://aka.ms/vscodeJupyterKernelCrash'>here</a> for more info. View Jupyter <a href='command:jupyter.viewOutput'>log</a> for further details."
     ]
    }
   ],
   "source": [
    "mkl_pardiso.pardiso(ffi.NULL, iparm, ffi.NULL, ffi.NULL, ffi.NULL, ffi.NULL, a, ia, ja, ffi.NULL, ffi.NULL, ffi.NULL, pt, b, ffi.NULL, ffi.NULL)\n"
   ]
  },
  {
   "cell_type": "code",
   "execution_count": 9,
   "metadata": {},
   "outputs": [
    {
     "ename": "NameError",
     "evalue": "name 'A' is not defined",
     "output_type": "error",
     "traceback": [
      "\u001b[1;31m---------------------------------------------------------------------------\u001b[0m",
      "\u001b[1;31mNameError\u001b[0m                                 Traceback (most recent call last)",
      "\u001b[1;32m~\\AppData\\Local\\Temp\\ipykernel_12628\\2677574406.py\u001b[0m in \u001b[0;36m<module>\u001b[1;34m\u001b[0m\n\u001b[0;32m     13\u001b[0m \u001b[1;31m# Set up the matrix A\u001b[0m\u001b[1;33m\u001b[0m\u001b[1;33m\u001b[0m\u001b[0m\n\u001b[0;32m     14\u001b[0m \u001b[1;32mfor\u001b[0m \u001b[0mi\u001b[0m \u001b[1;32min\u001b[0m \u001b[0mrange\u001b[0m\u001b[1;33m(\u001b[0m\u001b[0mn\u001b[0m\u001b[1;33m)\u001b[0m\u001b[1;33m:\u001b[0m\u001b[1;33m\u001b[0m\u001b[1;33m\u001b[0m\u001b[0m\n\u001b[1;32m---> 15\u001b[1;33m   \u001b[0ma\u001b[0m\u001b[1;33m[\u001b[0m\u001b[0mi\u001b[0m\u001b[1;33m]\u001b[0m \u001b[1;33m=\u001b[0m \u001b[0mA\u001b[0m\u001b[1;33m[\u001b[0m\u001b[0mi\u001b[0m\u001b[1;33m]\u001b[0m\u001b[1;33m\u001b[0m\u001b[1;33m\u001b[0m\u001b[0m\n\u001b[0m\u001b[0;32m     16\u001b[0m   \u001b[0mia\u001b[0m\u001b[1;33m[\u001b[0m\u001b[0mi\u001b[0m\u001b[1;33m]\u001b[0m \u001b[1;33m=\u001b[0m \u001b[0mIA\u001b[0m\u001b[1;33m[\u001b[0m\u001b[0mi\u001b[0m\u001b[1;33m]\u001b[0m\u001b[1;33m\u001b[0m\u001b[1;33m\u001b[0m\u001b[0m\n\u001b[0;32m     17\u001b[0m   \u001b[0mja\u001b[0m\u001b[1;33m[\u001b[0m\u001b[0mi\u001b[0m\u001b[1;33m]\u001b[0m \u001b[1;33m=\u001b[0m \u001b[0mJA\u001b[0m\u001b[1;33m[\u001b[0m\u001b[0mi\u001b[0m\u001b[1;33m]\u001b[0m\u001b[1;33m\u001b[0m\u001b[1;33m\u001b[0m\u001b[0m\n",
      "\u001b[1;31mNameError\u001b[0m: name 'A' is not defined"
     ]
    }
   ],
   "source": [
    "n = 100\n",
    "iparm = ffi.new(\"int[64]\")\n",
    "pt = ffi.new(\"int[64]\")\n",
    "a = ffi.new(\"double[100]\")\n",
    "ia = ffi.new(\"int[100]\")\n",
    "ja = ffi.new(\"int[100]\")\n",
    "b = ffi.new(\"double[100]\")\n",
    "\n",
    "# Set up the input parameters\n",
    "iparm[0] = 1 # Use default values for all parameters\n",
    "iparm[1] = 2 # Use the 2-level factorization algorithm\n",
    "\n",
    "# Set up the matrix A\n",
    "for i in range(n):\n",
    "  a[i] = A[i]\n",
    "  ia[i] = IA[i]\n",
    "  ja[i] = JA[i]\n",
    "\n",
    "\n",
    "\n",
    "# Set up the right-hand side vector b\n",
    "for i in range(n):\n",
    "  b[i] = B[i]"
   ]
  },
  {
   "cell_type": "code",
   "execution_count": 13,
   "metadata": {},
   "outputs": [
    {
     "name": "stdout",
     "output_type": "stream",
     "text": [
      "Calculated workspace size as (20+0j)\n",
      "Calculated workspace size as (20+0j)\n",
      "Calculated workspace size as (20+0j)\n",
      "Calculated workspace size as (20+0j)\n",
      "Calculated workspace size as (20+0j)\n",
      "Calculated workspace size as (20+0j)\n",
      "Calculated workspace size as (20+0j)\n",
      "Calculated workspace size as (20+0j)\n",
      "Calculated workspace size as (20+0j)\n",
      "Calculated workspace size as (20+0j)\n"
     ]
    }
   ],
   "source": [
    "from numba import njit\n",
    "import numpy as np\n",
    "from numba.extending import get_cython_function_address\n",
    "import ctypes\n",
    "\n",
    "# Datatype pointers to give to the cython LAPACK functions\n",
    "_PTR = ctypes.POINTER\n",
    "\n",
    "_dbl = ctypes.c_double\n",
    "_int = ctypes.c_int64\n",
    "\n",
    "_ptr_dbl = _PTR(_dbl)\n",
    "_ptr_int = _PTR(_int)\n",
    "\n",
    "# zgges is the complex QZ-decomposition\n",
    "zgges_addr = get_cython_function_address('scipy.linalg.cython_lapack', 'zgges')\n",
    "zgges_functype = ctypes.CFUNCTYPE(None,\n",
    "                                  _ptr_int,  # JOBVSL\n",
    "                                  _ptr_int,  # JOBVSR\n",
    "                                  _ptr_int,  # SORT\n",
    "                                  _ptr_int,  # SELCTG\n",
    "                                  _ptr_int,  # N\n",
    "                                  _ptr_dbl,  # A, complex\n",
    "                                  _ptr_int,  # LDA\n",
    "                                  _ptr_dbl,  # B, complex\n",
    "                                  _ptr_int,  # LDB\n",
    "                                  _ptr_int,  # SDIM\n",
    "                                  _ptr_dbl,  # ALPHA, complex\n",
    "                                  _ptr_dbl,  # BETA, complex\n",
    "                                  _ptr_dbl,  # VSL, complex\n",
    "                                  _ptr_int,  # LDVSL\n",
    "                                  _ptr_dbl,  # VSR, complex\n",
    "                                  _ptr_int,  # LDVSR\n",
    "                                  _ptr_dbl,  # WORK, complex\n",
    "                                  _ptr_int,  # LWORK\n",
    "                                  _ptr_dbl,  # RWORK\n",
    "                                  _ptr_int,  # BWORK\n",
    "                                  _ptr_int)  # INFO\n",
    "zgges_fn = zgges_functype(zgges_addr)\n",
    "\n",
    "@njit\n",
    "def numba_zgges(x, y):\n",
    "    _M, _N = x.shape\n",
    "\n",
    "    A = x\n",
    "    B = y\n",
    "\n",
    "    JOBVSL = np.array([ord('V')], dtype=np.int64)\n",
    "    JOBVSR = np.array([ord('V')], dtype=np.int64)\n",
    "    SORT = np.array([ord('N')], dtype=np.int64)\n",
    "    SELCTG = np.empty(1, dtype=np.int64)\n",
    "\n",
    "    N = np.array(_N, dtype=np.int64)\n",
    "    LDA = np.array(_N, dtype=np.int64)\n",
    "    LDB = np.array(_N, dtype=np.int64)\n",
    "    SDIM = np.array(0, dtype=np.int64) # out\n",
    "\n",
    "    ALPHA = np.empty(_N, dtype=np.complex128) # out\n",
    "    BETA = np.empty(_N, dtype=np.complex128) # out\n",
    "    LDVSL = np.array(_N, dtype=np.int64)\n",
    "    VSL = np.empty((_N, _N), dtype=np.complex128) # out\n",
    "    LDVSR = np.array(_N, dtype=np.int64)\n",
    "    VSR = np.empty((_N, _N), dtype=np.complex128) # out\n",
    "\n",
    "    WORK = np.empty((1,), dtype=np.complex128) #out\n",
    "    LWORK = np.array(-1, dtype=np.int64)\n",
    "    RWORK = np.empty(8*_N, dtype=np.float64)\n",
    "    BWORK = np.empty(_N, dtype=np.int64)\n",
    "    INFO = np.empty(1, dtype=np.int64)\n",
    "\n",
    "    zgges_fn(JOBVSL.ctypes,\n",
    "             JOBVSR.ctypes,\n",
    "             SORT.ctypes,\n",
    "             SELCTG.ctypes,\n",
    "             N.ctypes,\n",
    "             A.view(np.float64).ctypes,\n",
    "             LDA.ctypes,\n",
    "             B.view(np.float64).ctypes,\n",
    "             LDB.ctypes,\n",
    "             SDIM.ctypes,\n",
    "             ALPHA.view(np.float64).ctypes,\n",
    "             BETA.view(np.float64).ctypes,\n",
    "             VSL.view(np.float64).ctypes,\n",
    "             LDVSL.ctypes,\n",
    "             VSR.view(np.float64).ctypes,\n",
    "             LDVSR.ctypes,\n",
    "             WORK.view(np.float64).ctypes,\n",
    "             LWORK.ctypes,\n",
    "             RWORK.ctypes,\n",
    "             BWORK.ctypes,\n",
    "             INFO.ctypes)\n",
    "\n",
    "    print(\"Calculated workspace size as\", WORK[0])\n",
    "    WS_SIZE = np.int64(WORK[0].real)\n",
    "    LWORK = np.array(WS_SIZE, np.int64)\n",
    "    WORK = np.empty(WS_SIZE, dtype=np.complex128)\n",
    "    zgges_fn(JOBVSL.ctypes,\n",
    "             JOBVSR.ctypes,\n",
    "             SORT.ctypes,\n",
    "             SELCTG.ctypes,\n",
    "             N.ctypes,\n",
    "             A.view(np.float64).ctypes,\n",
    "             LDA.ctypes,\n",
    "             B.view(np.float64).ctypes,\n",
    "             LDB.ctypes,\n",
    "             SDIM.ctypes,\n",
    "             ALPHA.view(np.float64).ctypes,\n",
    "             BETA.view(np.float64).ctypes,\n",
    "             VSL.view(np.float64).ctypes,\n",
    "             LDVSL.ctypes,\n",
    "             VSR.view(np.float64).ctypes,\n",
    "             LDVSR.ctypes,\n",
    "             WORK.view(np.float64).ctypes,\n",
    "             LWORK.ctypes,\n",
    "             RWORK.ctypes,\n",
    "             BWORK.ctypes,\n",
    "             INFO.ctypes)\n",
    "\n",
    "    # The LAPACK function also returns SDIM, WORK, BWORK, but I don't need them here.\n",
    "    return A, B, ALPHA, BETA, VSL.T, VSR.T, INFO\n",
    "\n",
    "for _ in range(10):\n",
    "    n = 10\n",
    "    A = np.random.random([n, n])\n",
    "    B = np.random.random([n, n])\n",
    "    AA, BB, a, b, Q, Z, info = numba_zgges(np.asfortranarray(A, dtype='D'), \n",
    "                                           np.asfortranarray(B, dtype='D'))\n",
    "\n",
    "    aa = Q @ AA @ Z.conj().T\n",
    "    assert np.allclose(aa.real, A)\n",
    "    assert np.allclose(aa.imag, 0)\n",
    "    bb = Q @ BB @ Z.conj().T\n",
    "    assert np.allclose(bb.real, B)\n",
    "    assert np.allclose(bb.imag, 0)\n",
    "    assert np.allclose(Q @ Q.conj().T, np.eye(n))\n",
    "    assert np.allclose(Z @ Z.conj().T, np.eye(n))\n",
    "\n",
    "    assert np.all(np.diag(BB) >= 0)"
   ]
  },
  {
   "cell_type": "code",
   "execution_count": 50,
   "metadata": {},
   "outputs": [
    {
     "ename": "TypeError",
     "evalue": "cannot unpack non-iterable NoneType object",
     "output_type": "error",
     "traceback": [
      "\u001b[1;31m---------------------------------------------------------------------------\u001b[0m",
      "\u001b[1;31mTypeError\u001b[0m                                 Traceback (most recent call last)",
      "\u001b[1;32m~\\AppData\\Local\\Temp\\ipykernel_25088\\1598352036.py\u001b[0m in \u001b[0;36m<module>\u001b[1;34m\u001b[0m\n\u001b[0;32m      2\u001b[0m \u001b[0mA\u001b[0m \u001b[1;33m=\u001b[0m \u001b[0mnp\u001b[0m\u001b[1;33m.\u001b[0m\u001b[0mrandom\u001b[0m\u001b[1;33m.\u001b[0m\u001b[0mrandom\u001b[0m\u001b[1;33m(\u001b[0m\u001b[1;33m[\u001b[0m\u001b[0mn\u001b[0m\u001b[1;33m,\u001b[0m \u001b[0mn\u001b[0m\u001b[1;33m]\u001b[0m\u001b[1;33m)\u001b[0m\u001b[1;33m\u001b[0m\u001b[1;33m\u001b[0m\u001b[0m\n\u001b[0;32m      3\u001b[0m \u001b[0mB\u001b[0m \u001b[1;33m=\u001b[0m \u001b[0mnp\u001b[0m\u001b[1;33m.\u001b[0m\u001b[0mrandom\u001b[0m\u001b[1;33m.\u001b[0m\u001b[0mrandom\u001b[0m\u001b[1;33m(\u001b[0m\u001b[1;33m[\u001b[0m\u001b[0mn\u001b[0m\u001b[1;33m,\u001b[0m \u001b[0mn\u001b[0m\u001b[1;33m]\u001b[0m\u001b[1;33m)\u001b[0m\u001b[1;33m\u001b[0m\u001b[1;33m\u001b[0m\u001b[0m\n\u001b[1;32m----> 4\u001b[1;33m AA, BB, a, b, Q, Z, info = numba_zgges(np.asfortranarray(A, dtype='D'), \n\u001b[0m\u001b[0;32m      5\u001b[0m                                         np.asfortranarray(B, dtype='D'))\n",
      "\u001b[1;31mTypeError\u001b[0m: cannot unpack non-iterable NoneType object"
     ]
    }
   ],
   "source": [
    "n = 10\n",
    "A = np.random.random([n, n])\n",
    "B = np.random.random([n, n])\n",
    "AA, BB, a, b, Q, Z, info = numba_zgges(np.asfortranarray(A, dtype='D'), \n",
    "                                        np.asfortranarray(B, dtype='D'))"
   ]
  },
  {
   "cell_type": "code",
   "execution_count": 11,
   "metadata": {},
   "outputs": [
    {
     "ename": "TypeError",
     "evalue": "argument of type 'NoneType' is not iterable",
     "output_type": "error",
     "traceback": [
      "\u001b[1;31m---------------------------------------------------------------------------\u001b[0m",
      "\u001b[1;31mTypeError\u001b[0m                                 Traceback (most recent call last)",
      "\u001b[1;32m~\\AppData\\Local\\Temp\\ipykernel_24096\\1309381061.py\u001b[0m in \u001b[0;36m<module>\u001b[1;34m\u001b[0m\n\u001b[0;32m      4\u001b[0m \u001b[1;33m\u001b[0m\u001b[0m\n\u001b[0;32m      5\u001b[0m \u001b[1;33m\u001b[0m\u001b[0m\n\u001b[1;32m----> 6\u001b[1;33m \u001b[0mlib\u001b[0m \u001b[1;33m=\u001b[0m \u001b[0mctypes\u001b[0m\u001b[1;33m.\u001b[0m\u001b[0mcdll\u001b[0m\u001b[1;33m.\u001b[0m\u001b[0mLoadLibrary\u001b[0m\u001b[1;33m(\u001b[0m \u001b[0mfind_library\u001b[0m\u001b[1;33m(\u001b[0m\u001b[1;34m'splev'\u001b[0m\u001b[1;33m)\u001b[0m\u001b[1;33m)\u001b[0m\u001b[1;33m\u001b[0m\u001b[1;33m\u001b[0m\u001b[0m\n\u001b[0m\u001b[0;32m      7\u001b[0m \u001b[1;33m\u001b[0m\u001b[0m\n\u001b[0;32m      8\u001b[0m \u001b[0mdble_p\u001b[0m\u001b[1;33m=\u001b[0m\u001b[0mctypes\u001b[0m\u001b[1;33m.\u001b[0m\u001b[0mPOINTER\u001b[0m\u001b[1;33m(\u001b[0m\u001b[0mctypes\u001b[0m\u001b[1;33m.\u001b[0m\u001b[0mc_double\u001b[0m\u001b[1;33m)\u001b[0m\u001b[1;33m\u001b[0m\u001b[1;33m\u001b[0m\u001b[0m\n",
      "\u001b[1;32mc:\\Users\\jmmau\\anaconda3\\lib\\ctypes\\__init__.py\u001b[0m in \u001b[0;36mLoadLibrary\u001b[1;34m(self, name)\u001b[0m\n\u001b[0;32m    458\u001b[0m \u001b[1;33m\u001b[0m\u001b[0m\n\u001b[0;32m    459\u001b[0m     \u001b[1;32mdef\u001b[0m \u001b[0mLoadLibrary\u001b[0m\u001b[1;33m(\u001b[0m\u001b[0mself\u001b[0m\u001b[1;33m,\u001b[0m \u001b[0mname\u001b[0m\u001b[1;33m)\u001b[0m\u001b[1;33m:\u001b[0m\u001b[1;33m\u001b[0m\u001b[1;33m\u001b[0m\u001b[0m\n\u001b[1;32m--> 460\u001b[1;33m         \u001b[1;32mreturn\u001b[0m \u001b[0mself\u001b[0m\u001b[1;33m.\u001b[0m\u001b[0m_dlltype\u001b[0m\u001b[1;33m(\u001b[0m\u001b[0mname\u001b[0m\u001b[1;33m)\u001b[0m\u001b[1;33m\u001b[0m\u001b[1;33m\u001b[0m\u001b[0m\n\u001b[0m\u001b[0;32m    461\u001b[0m \u001b[1;33m\u001b[0m\u001b[0m\n\u001b[0;32m    462\u001b[0m     \u001b[0m__class_getitem__\u001b[0m \u001b[1;33m=\u001b[0m \u001b[0mclassmethod\u001b[0m\u001b[1;33m(\u001b[0m\u001b[0m_types\u001b[0m\u001b[1;33m.\u001b[0m\u001b[0mGenericAlias\u001b[0m\u001b[1;33m)\u001b[0m\u001b[1;33m\u001b[0m\u001b[1;33m\u001b[0m\u001b[0m\n",
      "\u001b[1;32mc:\\Users\\jmmau\\anaconda3\\lib\\ctypes\\__init__.py\u001b[0m in \u001b[0;36m__init__\u001b[1;34m(self, name, mode, handle, use_errno, use_last_error, winmode)\u001b[0m\n\u001b[0;32m    362\u001b[0m                 \u001b[1;32mimport\u001b[0m \u001b[0mnt\u001b[0m\u001b[1;33m\u001b[0m\u001b[1;33m\u001b[0m\u001b[0m\n\u001b[0;32m    363\u001b[0m                 \u001b[0mmode\u001b[0m \u001b[1;33m=\u001b[0m \u001b[0mnt\u001b[0m\u001b[1;33m.\u001b[0m\u001b[0m_LOAD_LIBRARY_SEARCH_DEFAULT_DIRS\u001b[0m\u001b[1;33m\u001b[0m\u001b[1;33m\u001b[0m\u001b[0m\n\u001b[1;32m--> 364\u001b[1;33m                 \u001b[1;32mif\u001b[0m \u001b[1;34m'/'\u001b[0m \u001b[1;32min\u001b[0m \u001b[0mname\u001b[0m \u001b[1;32mor\u001b[0m \u001b[1;34m'\\\\'\u001b[0m \u001b[1;32min\u001b[0m \u001b[0mname\u001b[0m\u001b[1;33m:\u001b[0m\u001b[1;33m\u001b[0m\u001b[1;33m\u001b[0m\u001b[0m\n\u001b[0m\u001b[0;32m    365\u001b[0m                     \u001b[0mself\u001b[0m\u001b[1;33m.\u001b[0m\u001b[0m_name\u001b[0m \u001b[1;33m=\u001b[0m \u001b[0mnt\u001b[0m\u001b[1;33m.\u001b[0m\u001b[0m_getfullpathname\u001b[0m\u001b[1;33m(\u001b[0m\u001b[0mself\u001b[0m\u001b[1;33m.\u001b[0m\u001b[0m_name\u001b[0m\u001b[1;33m)\u001b[0m\u001b[1;33m\u001b[0m\u001b[1;33m\u001b[0m\u001b[0m\n\u001b[0;32m    366\u001b[0m                     \u001b[0mmode\u001b[0m \u001b[1;33m|=\u001b[0m \u001b[0mnt\u001b[0m\u001b[1;33m.\u001b[0m\u001b[0m_LOAD_LIBRARY_SEARCH_DLL_LOAD_DIR\u001b[0m\u001b[1;33m\u001b[0m\u001b[1;33m\u001b[0m\u001b[0m\n",
      "\u001b[1;31mTypeError\u001b[0m: argument of type 'NoneType' is not iterable"
     ]
    }
   ],
   "source": [
    "import numba as nb\n",
    "import numpy as np\n",
    "import ctypes\n",
    "mkl_rt = find_library('splev')\n",
    "\n",
    "lib = ctypes.cdll.LoadLibrary(\"splev.dll\")\n",
    "\n",
    "dble_p=ctypes.POINTER(ctypes.c_double)\n",
    "int_p =ctypes.POINTER(ctypes.c_longlong)\n",
    "\n",
    "SPLEV=lib.SPLEV\n",
    "SPLEV.restype =  ctypes.c_void_p\n",
    "SPLEV.argtypes = (dble_p,int_p,dble_p,int_p,dble_p,dble_p,int_p,int_p,int_p)\n",
    "\n",
    "from numba import types\n",
    "from numba.extending import intrinsic\n",
    "from numba.core import cgutils\n",
    "\n",
    "@intrinsic\n",
    "def val_to_ptr(typingctx, data):\n",
    "    def impl(context, builder, signature, args):\n",
    "        ptr = cgutils.alloca_once_value(builder,args[0])\n",
    "        return ptr\n",
    "    sig = types.CPointer(nb.typeof(data).instance_type)(nb.typeof(data).instance_type)\n",
    "    return sig, impl\n",
    "\n",
    "@intrinsic\n",
    "def ptr_to_val(typingctx, data):\n",
    "    def impl(context, builder, signature, args):\n",
    "        val = builder.load(args[0])\n",
    "        return val\n",
    "    sig = data.dtype(types.CPointer(data.dtype))\n",
    "    return sig, impl\n",
    "\n",
    "#with intrinsics, temporary arrays are allocated on stack\n",
    "#faster but much more relevant for functions with very low runtime\n",
    "@nb.njit()\n",
    "def splev_wrapped(x, coeff,e):\n",
    "    #There are just pointers passed to the fortran function.\n",
    "    #The arrays have to be contiguous!\n",
    "    t=np.ascontiguousarray(coeff[0])\n",
    "    x=np.ascontiguousarray(x)\n",
    "    \n",
    "    c=coeff[1]\n",
    "    k=coeff[2]\n",
    "    \n",
    "    y=np.empty(x.shape[0],dtype=np.float64)\n",
    "    \n",
    "    n_arr=val_to_ptr(nb.int64(t.shape[0]))\n",
    "    k_arr=val_to_ptr(nb.int64(k))\n",
    "    m_arr=val_to_ptr(nb.int64(x.shape[0]))\n",
    "    e_arr=val_to_ptr(nb.int64(e))\n",
    "    ier_arr=val_to_ptr(nb.int64(0))\n",
    "    \n",
    "    SPLEV(t.ctypes,n_arr,c.ctypes,k_arr,x.ctypes,\n",
    "        y.ctypes,m_arr,e_arr,ier_arr)\n",
    "    return y, ptr_to_val(ier_arr)\n",
    "\n",
    "#without using intrinsics\n",
    "@nb.njit()\n",
    "def splev_wrapped_2(x, coeff,e):\n",
    "    #There are just pointers passed to the fortran function.\n",
    "    #The arrays have to be contiguous!\n",
    "    t=np.ascontiguousarray(coeff[0])\n",
    "    x=np.ascontiguousarray(x)\n",
    "    \n",
    "    c=coeff[1]\n",
    "    k=coeff[2]\n",
    "    y=np.empty(x.shape[0],dtype=np.float64)\n",
    "    \n",
    "    n_arr = np.empty(1,  dtype=np.int64)\n",
    "    k_arr = np.empty(1,  dtype=np.int64)\n",
    "    m_arr = np.empty(1,  dtype=np.int64)\n",
    "    e_arr = np.empty(1,  dtype=np.int64)\n",
    "    ier_arr = np.zeros(1,  dtype=np.int64)\n",
    "    \n",
    "    n_arr[0]=t.shape[0]\n",
    "    k_arr[0]=k\n",
    "    m_arr[0]=x.shape[0]\n",
    "    e_arr[0]=e\n",
    "    \n",
    "    SPLEV(t.ctypes,n_arr.ctypes,c.ctypes,k_arr.ctypes,x.ctypes,\n",
    "        y.ctypes,m_arr.ctypes,e_arr.ctypes,ier_arr.ctypes)\n",
    "    return y, ier_arr[0]"
   ]
  },
  {
   "cell_type": "code",
   "execution_count": 12,
   "metadata": {},
   "outputs": [],
   "source": [
    "find_library('splev')"
   ]
  },
  {
   "cell_type": "code",
   "execution_count": null,
   "metadata": {},
   "outputs": [],
   "source": []
  }
 ],
 "metadata": {
  "kernelspec": {
   "display_name": "base",
   "language": "python",
   "name": "python3"
  },
  "language_info": {
   "codemirror_mode": {
    "name": "ipython",
    "version": 3
   },
   "file_extension": ".py",
   "mimetype": "text/x-python",
   "name": "python",
   "nbconvert_exporter": "python",
   "pygments_lexer": "ipython3",
   "version": "3.9.13"
  },
  "vscode": {
   "interpreter": {
    "hash": "1b1fd1016f48c91706a48f1be322d44ea1680db2bb213f1ce174a5eccfd1e534"
   }
  }
 },
 "nbformat": 4,
 "nbformat_minor": 2
}
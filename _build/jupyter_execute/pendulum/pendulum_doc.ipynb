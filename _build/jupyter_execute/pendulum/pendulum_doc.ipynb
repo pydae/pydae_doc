{
 "cells": [
  {
   "cell_type": "markdown",
   "metadata": {},
   "source": [
    "# Pendulum DAE system"
   ]
  },
  {
   "cell_type": "code",
   "execution_count": 1,
   "metadata": {
    "tags": [
     "hide-input"
    ]
   },
   "outputs": [
    {
     "data": {
      "image/jpeg": "[encoded data removed]",
      "text/html": [
       "\n",
       "<iframe\n",
       "    width=\"400\"\n",
       "    height=\"300\"\n",
       "    src=\"https://www.youtube.com/embed/4a0FbQdH3dY\"\n",
       "    frameborder=\"0\"\n",
       "    allowfullscreen\n",
       "></iframe>\n"
      ],
      "text/plain": [
       "<IPython.lib.display.YouTubeVideo at 0x1eae35babc8>"
      ]
     },
     "execution_count": 1,
     "metadata": {
      "filenames": {
       "image/jpeg": "C:\\Users\\jmmau\\workspace\\pydae_doc\\_build\\jupyter_execute\\pendulum\\pendulum_doc_1_0.jpg"
      }
     },
     "output_type": "execute_result"
    }
   ],
   "source": [
    "from IPython.lib.display import YouTubeVideo\n",
    "YouTubeVideo('4a0FbQdH3dY')"
   ]
  },
  {
   "cell_type": "markdown",
   "metadata": {},
   "source": [
    "## Formulation\n",
    "\n",
    "Backward solution:\n",
    "\n",
    "$$\n",
    "\\begin{split} \n",
    "\\mathbf {\\dot x}  &  =  \\mathbf {f (x,y^{ini},u^{ini}) } \\\\\n",
    "\\mathbf 0 & =  \\mathbf {g (x,y^{ini},u^{ini}) }  \n",
    "\\end{split}\n",
    "$$\n",
    "\n",
    "Foreward solution:\n",
    "\n",
    "$$\n",
    "\\begin{split} \n",
    "\\mathbf {\\dot x}  &  =  \\mathbf {f (x,y^{run},u^{run}) } \\\\\n",
    "\\mathbf 0 & =  \\mathbf {g (x,y^{run},u^{run}) }  \n",
    "\\end{split}\n",
    "$$\n",
    " \n",
    "### Differential equations\n",
    "\n",
    "$$   \n",
    "\\begin{eqnarray}\n",
    "f_1 &=& \\frac{dp_x}{dt} = v_x \\\\\n",
    "f_2 &=& \\frac{dp_y}{dt} = v_y \\\\\n",
    "f_3 &=& \\frac{dv_x}{dt} = \\frac{1}{M} \\left(-2 p_x \\lambda + f_x - K_d v_x \\right)  \\\\\n",
    "f_4 &=& \\frac{dv_y}{dt} = \\frac{1}{M} \\left(-M G - 2 p_y \\lambda - K_d v_y \\right)\n",
    "\\end{eqnarray}\n",
    "$$\n",
    "\n",
    "### Algebraic equations\n",
    "\n",
    "$$\n",
    "\\begin{eqnarray}\n",
    "g_1 &=& p_x^2 + p_y^2 - L^2  \\\\\n",
    "g_2 &=& -\\theta + \\arctan\\left(p_x,-p_y\\right) \n",
    "\\end{eqnarray}\n",
    "$$\n",
    "\n",
    "\n",
    "The dynamic states are:\n",
    "\n",
    "$$\n",
    "\\mathbf{f} =\n",
    "\\left[\n",
    "\\begin{array}{c}\n",
    "f_1\\\\\n",
    "f_2\\\\\n",
    "f_3\\\\\n",
    "f_4\n",
    "\\end{array}\n",
    "\\right]\n",
    "\\;\\;\\;\\;\\;\\;\n",
    "\\mathbf{g} =\n",
    "\\left[\n",
    "\\begin{array}{c}\n",
    "g_1\\\\\n",
    "g_2\n",
    "\\end{array}\n",
    "\\right]\n",
    "\\;\\;\\;\\;\\;\\;\n",
    "$$\n",
    "\n",
    "$$\n",
    "\\mathbf x = \\left[\n",
    "\\begin{array}{c} \n",
    "p_x \\\\ \n",
    "p_y \\\\ \n",
    "v_x \\\\ \n",
    "v_y \n",
    "\\end{array} \\right]\n",
    "\\;\\;\\;\\;\n",
    "\\mathbf {y^{ini}} = \\left[\n",
    "\\begin{array}{c} \n",
    " \\lambda \\\\ \n",
    " f_x\n",
    "\\end{array} \\right] \n",
    "\\;\\;\\;\\;\n",
    "\\mathbf {y^{run}} = \\left[\n",
    "\\begin{array}{c} \n",
    " \\lambda \\\\ \n",
    "\\theta\n",
    "\\end{array} \\right] \n",
    "\\;\\;\\;\\;\n",
    "\\mathbf {u^{ini}} = \\left[\n",
    "\\begin{array}{c} \n",
    "\\theta\n",
    "\\end{array} \\right] \n",
    "\\;\\;\\;\\;\n",
    "\\mathbf {u^{run}} = \\left[\n",
    "\\begin{array}{c} \n",
    "f_x\n",
    "\\end{array} \\right]\n",
    "$$\n",
    "\n",
    "### Outputs\n",
    "\n",
    "We may be interested in the potential energy:\n",
    "$$\n",
    "E_p = M G p_y\n",
    "$$\n",
    "\n",
    "And the kinetical energy:\n",
    "$$\n",
    "E_k = \\frac{1}{2} M \\left(v_x^2 + v_y^2 \\right)\n",
    "$$\n",
    "\n",
    "$$\n",
    "\\mathbf{h} =\n",
    "\\left[\n",
    "\\begin{array}{c}\n",
    "M G p_y\\\\\n",
    "\\frac{1}{2} M \\left(v_x^2 + v_y^2 \\right)\n",
    "\\end{array}\n",
    "\\right]\n",
    "\\;\\;\\;\\;\\;\\;\n",
    "\\mathbf{z} =\n",
    "\\left[\n",
    "\\begin{array}{c}\n",
    "E_p\\\\\n",
    "E_k\n",
    "\\end{array}\n",
    "\\right]\n",
    "$$"
   ]
  },
  {
   "cell_type": "markdown",
   "metadata": {},
   "source": [
    "9.45 he sets the bom in 5deg (How much force in x did he applied?)\n",
    "\n"
   ]
  },
  {
   "cell_type": "code",
   "execution_count": 2,
   "metadata": {},
   "outputs": [],
   "source": [
    "import numpy as np\n",
    "import sympy as sym\n",
    "import pydae.build as db"
   ]
  },
  {
   "cell_type": "markdown",
   "metadata": {},
   "source": [
    "### Definition of variables and constants"
   ]
  },
  {
   "cell_type": "code",
   "execution_count": 3,
   "metadata": {},
   "outputs": [],
   "source": [
    "params_dict = {'L':5.21,'G':9.81,'M':10.0,'K_d':1e-3}\n",
    "\n",
    "\n",
    "u_ini_dict = {'theta':np.deg2rad(5.0)}  # input for the initialization problem\n",
    "u_run_dict = {'f_x':0}                  # input for the running problem, its value is updated \n",
    "\n",
    "\n",
    "x_list = ['p_x','p_y','v_x','v_y']  # dynamic states\n",
    "y_ini_list = ['lam','f_x']          # algebraic states for the initialization problem\n",
    "y_run_list = ['lam','theta']        # algebraic for the running problem\n",
    "\n",
    "sys_vars = {'params':params_dict,\n",
    "            'u_list':u_run_dict,\n",
    "            'x_list':x_list,\n",
    "            'y_list':y_run_list}\n",
    "\n",
    "exec(db.sym_gen_str())  # exec to generate the required symbolic varables and constants"
   ]
  },
  {
   "cell_type": "markdown",
   "metadata": {},
   "source": [
    "### System formulation"
   ]
  },
  {
   "cell_type": "code",
   "execution_count": 4,
   "metadata": {},
   "outputs": [],
   "source": [
    "dp_x = v_x\n",
    "dp_y = v_y\n",
    "dv_x = (-2*p_x*lam + f_x - K_d*v_x)/M\n",
    "dv_y = (-M*G - 2*p_y*lam - K_d*v_y)/M   \n",
    "\n",
    "g_1 = p_x**2 + p_y**2 - L**2 -lam*1e-6\n",
    "g_2 = -theta + sym.atan2(p_x,-p_y)"
   ]
  },
  {
   "cell_type": "markdown",
   "metadata": {},
   "source": [
    "## Build the model"
   ]
  },
  {
   "cell_type": "code",
   "execution_count": 5,
   "metadata": {},
   "outputs": [],
   "source": [
    "sys = {'name':'pendulum',\n",
    "       'params_dict':params_dict,\n",
    "       'f_list':[dp_x,dp_y,dv_x,dv_y],\n",
    "       'g_list':[g_1,g_2],\n",
    "       'x_list':x_list,\n",
    "       'y_ini_list':y_ini_list,\n",
    "       'y_run_list':y_run_list,\n",
    "       'u_run_dict':u_run_dict,\n",
    "       'u_ini_dict':u_ini_dict,\n",
    "       'h_dict':{'E_p':M*G*p_y,'E_k':0.5*M*(v_x**2+v_y**2),'theta':theta}}\n",
    "\n",
    "sys = db.system(sys)\n",
    "db.sys2num(sys)"
   ]
  },
  {
   "cell_type": "code",
   "execution_count": 6,
   "metadata": {},
   "outputs": [],
   "source": [
    "from IPython.core.display import HTML\n"
   ]
  },
  {
   "cell_type": "code",
   "execution_count": 7,
   "metadata": {},
   "outputs": [
    {
     "data": {
      "text/html": [
       "<svg viewBox=\"0 0 500 500\" xmlns=\"http://www.w3.org/2000/svg\"\n",
       "    xmlns:xlink=\"http://www.w3.org/1999/xlink\">\n",
       "  <path d=\"m 110.36905,102.05357 a 39.309525,39.309525 0 0 1 -19.654764,34.04305 39.309525,39.309525 0 0 1 -39.309525,0 A 39.309525,39.309525 0 0 1 31.75,102.05357\"\n",
       "      stroke=\"lightgrey\" stroke-width=\"2\" fill=\"none\" id=\"motionPath\"/>\n",
       "  <circle r=\"5\" fill=\"red\">\n",
       "    <animateMotion dur=\"30s\" repeatCount=\"indefinite\"\n",
       "        keyPoints=0.5000;0.5030;0.5060;0.5090;0.5120;0.5150;0.5179;0.5209;0.5238;0.5267;0.5296;0.5324;0.5353;0.5381;0.5408;0.5435;0.5462;0.5489;0.5515;0.5540;0.5565;0.5590;0.5614;0.5637;0.5660;0.5682;0.5704;0.5725;0.5745;0.5765;0.5784;0.5802;0.5820;0.5837;0.5853;0.5868;0.5882;0.5896;0.5909;0.5921;0.5932;0.5943;0.5952;0.5961;0.5969;0.5976;0.5982;0.5987;0.5992;0.5995;0.5998;0.5999;0.6000;0.6000;0.5999;0.5997;0.5994;0.5990;0.5985;0.5980;0.5973;0.5966;0.5958;0.5949;0.5939;0.5928;0.5917;0.5904;0.5891;0.5877;0.5862;0.5847;0.5830;0.5813;0.5795;0.5777;0.5757;0.5737;0.5717;0.5696;0.5674;0.5651;0.5628;0.5604;0.5580;0.5556;0.5530;0.5505;0.5479;0.5452;0.5425;0.5398;0.5370;0.5342;0.5313;0.5285;0.5256;0.5227;0.5197;0.5168;0.5138;0.5108;0.5078;0.5048;0.5018;0.4988;0.4958;0.4928;0.4899;0.4869;0.4839;0.4809;0.4780;0.4751;0.4722;0.4693;0.4665;0.4637;0.4609;0.4581;0.4554;0.4528;0.4501;0.4476;0.4450;0.4425;0.4401;0.4377;0.4354;0.4331;0.4309;0.4288;0.4267;0.4247;0.4228;0.4209;0.4191;0.4174;0.4157;0.4141;0.4126;0.4112;0.4099;0.4086;0.4074;0.4063;0.4053;0.4044;0.4036;0.4028;0.4022;0.4016;0.4011;0.4007;0.4004;0.4002;0.4000;0.4000;0.4001;0.4002;0.4004;0.4007;0.4012;0.4017;0.4023;0.4029;0.4037;0.4045;0.4055;0.4065;0.4076;0.4088;0.4101;0.4114;0.4129;0.4144;0.4160;0.4176;0.4194;0.4212;0.4231;0.4250;0.4270;0.4291;0.4313;0.4335;0.4358;0.4381;0.4405;0.4429;0.4454;0.4479;0.4505;0.4532;0.4558;0.4586;0.4613;0.4641;0.4669;0.4698;0.4726;0.4755;0.4785;0.4814;0.4844;0.4873;0.4903;0.4933;0.4963;0.4993;0.5023;0.5053;0.5083;0.5113;0.5143;0.5172;0.5202;0.5231;0.5260;0.5289;0.5318;0.5346;0.5374;0.5402;0.5429;0.5456;0.5483;0.5509;0.5534;0.5559;0.5584;0.5608;0.5632;0.5655;0.5677;0.5699;0.5720;0.5741;0.5760;0.5780;0.5798;0.5816;0.5833;0.5849;0.5864;0.5879;0.5893;0.5906;0.5918;0.5930;0.5941;0.5950;0.5959;0.5967;0.5974;0.5981;0.5986;0.5991;0.5994;0.5997;0.5999;0.6000;0.6000;0.5999;0.5997;0.5995;0.5991;0.5987;0.5981;0.5975;0.5968;0.5960;0.5951;0.5941;0.5931;0.5919;0.5907;0.5894;0.5880;0.5866;0.5850;0.5834;0.5817;0.5799;0.5781;0.5762;0.5742;0.5722;0.5701;0.5679;0.5656;0.5633;0.5610;0.5586;0.5561;0.5536;0.5511;0.5485;0.5458;0.5431;0.5404;0.5376;0.5348;0.5320;0.5291;0.5263;0.5233;0.5204;0.5175;0.5145;0.5115;0.5085;0.5055;0.5025;0.4995;0.4965;0.4935;0.4905;0.4876;0.4846;0.4816;0.4787;0.4758;0.4729;0.4700;0.4671;0.4643;0.4615;0.4588;0.4560;0.4534;0.4507;0.4481;0.4456;0.4431;0.4407;0.4383;0.4359;0.4337;0.4314;0.4293;0.4272;0.4252;0.4232;0.4213;0.4195;0.4178;0.4161;0.4145;0.4130;0.4115;0.4102;0.4089;0.4077;0.4066;0.4056;0.4046;0.4038;0.4030;0.4023;0.4017;0.4012;0.4008;0.4004;0.4002;0.4001;0.4000;0.4000;0.4002;0.4004;0.4007;0.4011;0.4015;0.4021;0.4028;0.4035;0.4043;0.4053;0.4063;0.4074;0.4085;0.4098;0.4111;0.4125;0.4140;0.4156;0.4172;0.4190;0.4208;0.4226;0.4246;0.4266;0.4286;0.4308;0.4330;0.4352;0.4376;0.4399;0.4424;0.4448;0.4474;0.4499;0.4526;0.4552;0.4579;0.4607;0.4634;0.4663;0.4691;0.4720;0.4749;0.4778;0.4807;0.4837;0.4866;0.4896;0.4926;0.4956;0.4986;0.5016;0.5046;0.5076;0.5106;0.5136;0.5166;0.5195;0.5224;0.5254;0.5283;0.5311;0.5340;0.5368;0.5395;0.5423;0.5450;0.5477;0.5503;0.5528;0.5554;0.5578;0.5603;0.5626;0.5649;0.5672;0.5694;0.5715;0.5736;0.5756;0.5775;0.5794;0.5812;0.5829;0.5845;0.5861;0.5876;0.5890;0.5903;0.5916;0.5927;0.5938;0.5948;0.5957;0.5966;0.5973;0.5979;0.5985;0.5990;0.5994;0.5997;0.5999;0.6000;0.6000;0.5999;0.5998;0.5995;0.5992;0.5988;0.5983;0.5977;0.5970;0.5962;0.5953;0.5944;0.5933;0.5922;0.5910;0.5897;0.5884;0.5869;0.5854;0.5838;0.5821;0.5804;0.5785;0.5766;0.5747;0.5726;0.5705;0.5684;0.5662;0.5639;0.5615;0.5591;0.5567;0.5542;0.5517;0.5491;0.5464;0.5437;0.5410;0.5383;0.5355;0.5326;0.5298;0.5269;0.5240;0.5211;0.5181;0.5152;0.5122;0.5092;0.5062;0.5032;0.5002;0.4972;0.4942;0.4912;0.4882;0.4853;0.4823;0.4794;0.4764;0.4735;0.4706;0.4678;0.4650;0.4622;0.4594;0.4567;0.4540;0.4513;0.4487;0.4462;0.4437;0.4412;0.4388;0.4365;0.4342;0.4319;0.4298;0.4277;0.4256;0.4237;0.4218;0.4199;0.4182;0.4165;0.4149;0.4133;0.4119;0.4105;0.4092;0.4080;0.4068;0.4058;0.4048;0.4039;0.4032;0.4024;0.4018;0.4013;0.4009;0.4005;0.4003;0.4001;0.4000;0.4000;0.4001;0.4003;0.4006;0.4010;0.4014;0.4020;0.4026;0.4033;0.4041;0.4050;0.4060;0.4071;0.4082;0.4095;0.4108;0.4122;0.4137;0.4152;0.4169;0.4186;0.4203;0.4222;0.4241;0.4261;0.4282;0.4303;0.4325;0.4347;0.4370;0.4394;0.4418;0.4443;0.4468;0.4493;0.4520;0.4546;0.4573;0.4600;0.4628;0.4656;0.4684;0.4713;0.4742;0.4771;0.4800;0.4830;0.4860;0.4889;0.4919;0.4949;0.4979;0.5009;0.5039;0.5069;0.5099;0.5129;0.5159;0.5188;0.5218;0.5247;0.5276;0.5305;0.5333;0.5361;0.5389;0.5417;0.5444;0.5470;0.5497;0.5523;0.5548;0.5573;0.5597;0.5621;0.5644;0.5667;0.5689;0.5710;0.5731;0.5751;0.5771;0.5790;0.5808;0.5825;0.5842;0.5857;0.5873;0.5887;0.5900;0.5913;0.5925;0.5936;0.5946;0.5955;0.5964;0.5971;0.5978;0.5984;0.5989;0.5993;0.5996;0.5998;0.6000;0.6000;0.6000;0.5998;0.5996;0.5993;0.5989;0.5984;0.5978;0.5971;0.5964;0.5955;0.5946;0.5936;0.5925;0.5913;0.5900;0.5887;0.5872;0.5857;0.5842;0.5825;0.5808;0.5790;0.5771;0.5751;0.5731;0.5710;0.5689;0.5667;0.5644;0.5621;0.5597;0.5573;0.5548;0.5522;0.5497;0.5470;0.5444;0.5416;0.5389;0.5361;0.5333;0.5305;0.5276;0.5247;0.5218;0.5188;0.5159;0.5129;0.5099;0.5069;0.5039;0.5009;0.4979;0.4949;0.4919;0.4889;0.4859;0.4830;0.4800;0.4771;0.4742;0.4713;0.4684;0.4656;0.4628;0.4600;0.4573;0.4546;0.4519;0.4493;0.4468;0.4442;0.4418;0.4394;0.4370;0.4347;0.4325;0.4303;0.4281;0.4261;0.4241;0.4222;0.4203;0.4186;0.4168;0.4152;0.4137;0.4122;0.4108;0.4095;0.4082;0.4071;0.4060;0.4050;0.4041;0.4033;0.4026;0.4020;0.4014;0.4010;0.4006;0.4003;0.4001;0.4000;0.4000;0.4001;0.4003;0.4005;0.4009;0.4013;0.4018;0.4025;0.4032;0.4039;0.4048;0.4058;0.4068;0.4080;0.4092;0.4105;0.4119;0.4133;0.4149;0.4165;0.4182;0.4199;0.4218;0.4237;0.4256;0.4277;0.4298;0.4320;0.4342;0.4365;0.4388;0.4412;0.4437;0.4462;0.4487;0.4513;0.4540;0.4567;0.4594;0.4622;0.4650;0.4678;0.4706;0.4735;0.4764;0.4794;0.4823;0.4853;0.4883;0.4912;0.4942;0.4972;0.5002;0.5032;0.5062;0.5092;0.5122;0.5152;0.5182;0.5211;0.5240;0.5269;0.5298;0.5327;0.5355;0.5383;0.5410;0.5438;0.5464;0.5491;0.5517;0.5542;0.5567;0.5592;0.5616;0.5639;0.5662;0.5684;0.5706;0.5726;0.5747;0.5766;0.5785;0.5804;0.5821;0.5838;0.5854;0.5869;0.5884;0.5897;0.5910;0.5922;0.5933;0.5944;0.5953;0.5962;0.5970;0.5977;0.5983;0.5988;0.5992;0.5995;0.5998;0.5999;0.6000;0.6000;0.5999;0.5997;0.5994;0.5990;0.5985;0.5979;0.5973;0.5966;0.5957;0.5948;0.5938;0.5927;0.5916;0.5903;0.5890;0.5876;0.5861;0.5845;0.5829;0.5812;0.5794;0.5775;0.5756;0.5736;0.5715;0.5694;0.5672;0.5649;0.5626;0.5603;0.5578;0.5554;0.5528;0.5503;0.5476;0.5450;0.5423;0.5395;0.5368;0.5340;0.5311;0.5282;0.5254;0.5224;0.5195;0.5165;0.5136;0.5106;0.5076;0.5046;0.5016;0.4986;0.4956;0.4926;0.4896;0.4866;0.4837;0.4807;0.4778;0.4749;0.4720;0.4691;0.4662;0.4634;0.4607;0.4579;0.4552;0.4525;0.4499;0.4473;0.4448;0.4423;0.4399;0.4375;0.4352;0.4330;0.4308;0.4286;0.4266;0.4246;0.4226;0.4208;0.4190;0.4172;0.4156;0.4140;0.4125;0.4111;0.4098;0.4085;0.4073;0.4063;0.4053;0.4043;0.4035;0.4028;0.4021;0.4015;0.4011;0.4007;0.4004;0.4002;0.4000;0.4000;0.4001;0.4002;0.4004;0.4008;0.4012 \n",
       "        keyTimes= 0.0000;0.0010;0.0020;0.0030;0.0040;0.0050;0.0060;0.0070;0.0080;0.0090;0.0100;0.0110;0.0120;0.0130;0.0140;0.0150;0.0160;0.0170;0.0180;0.0190;0.0200;0.0210;0.0220;0.0230;0.0240;0.0250;0.0260;0.0270;0.0280;0.0290;0.0300;0.0310;0.0320;0.0330;0.0340;0.0350;0.0360;0.0370;0.0380;0.0390;0.0400;0.0410;0.0420;0.0430;0.0440;0.0450;0.0460;0.0470;0.0480;0.0490;0.0501;0.0511;0.0521;0.0531;0.0541;0.0551;0.0561;0.0571;0.0581;0.0591;0.0601;0.0611;0.0621;0.0631;0.0641;0.0651;0.0661;0.0671;0.0681;0.0691;0.0701;0.0711;0.0721;0.0731;0.0741;0.0751;0.0761;0.0771;0.0781;0.0791;0.0801;0.0811;0.0821;0.0831;0.0841;0.0851;0.0861;0.0871;0.0881;0.0891;0.0901;0.0911;0.0921;0.0931;0.0941;0.0951;0.0961;0.0971;0.0981;0.0991;0.1001;0.1011;0.1021;0.1031;0.1041;0.1051;0.1061;0.1071;0.1081;0.1091;0.1101;0.1111;0.1121;0.1131;0.1141;0.1151;0.1161;0.1171;0.1181;0.1191;0.1201;0.1211;0.1221;0.1231;0.1241;0.1251;0.1261;0.1271;0.1281;0.1291;0.1301;0.1311;0.1321;0.1331;0.1341;0.1351;0.1361;0.1371;0.1381;0.1391;0.1401;0.1411;0.1421;0.1431;0.1441;0.1451;0.1461;0.1471;0.1481;0.1491;0.1502;0.1512;0.1522;0.1532;0.1542;0.1552;0.1562;0.1572;0.1582;0.1592;0.1602;0.1612;0.1622;0.1632;0.1642;0.1652;0.1662;0.1672;0.1682;0.1692;0.1702;0.1712;0.1722;0.1732;0.1742;0.1752;0.1762;0.1772;0.1782;0.1792;0.1802;0.1812;0.1822;0.1832;0.1842;0.1852;0.1862;0.1872;0.1882;0.1892;0.1902;0.1912;0.1922;0.1932;0.1942;0.1952;0.1962;0.1972;0.1982;0.1992;0.2002;0.2012;0.2022;0.2032;0.2042;0.2052;0.2062;0.2072;0.2082;0.2092;0.2102;0.2112;0.2122;0.2132;0.2142;0.2152;0.2162;0.2172;0.2182;0.2192;0.2202;0.2212;0.2222;0.2232;0.2242;0.2252;0.2262;0.2272;0.2282;0.2292;0.2302;0.2312;0.2322;0.2332;0.2342;0.2352;0.2362;0.2372;0.2382;0.2392;0.2402;0.2412;0.2422;0.2432;0.2442;0.2452;0.2462;0.2472;0.2482;0.2492;0.2503;0.2513;0.2523;0.2533;0.2543;0.2553;0.2563;0.2573;0.2583;0.2593;0.2603;0.2613;0.2623;0.2633;0.2643;0.2653;0.2663;0.2673;0.2683;0.2693;0.2703;0.2713;0.2723;0.2733;0.2743;0.2753;0.2763;0.2773;0.2783;0.2793;0.2803;0.2813;0.2823;0.2833;0.2843;0.2853;0.2863;0.2873;0.2883;0.2893;0.2903;0.2913;0.2923;0.2933;0.2943;0.2953;0.2963;0.2973;0.2983;0.2993;0.3003;0.3013;0.3023;0.3033;0.3043;0.3053;0.3063;0.3073;0.3083;0.3093;0.3103;0.3113;0.3123;0.3133;0.3143;0.3153;0.3163;0.3173;0.3183;0.3193;0.3203;0.3213;0.3223;0.3233;0.3243;0.3253;0.3263;0.3273;0.3283;0.3293;0.3303;0.3313;0.3323;0.3333;0.3343;0.3353;0.3363;0.3373;0.3383;0.3393;0.3403;0.3413;0.3423;0.3433;0.3443;0.3453;0.3463;0.3473;0.3483;0.3493;0.3504;0.3514;0.3524;0.3534;0.3544;0.3554;0.3564;0.3574;0.3584;0.3594;0.3604;0.3614;0.3624;0.3634;0.3644;0.3654;0.3664;0.3674;0.3684;0.3694;0.3704;0.3714;0.3724;0.3734;0.3744;0.3754;0.3764;0.3774;0.3784;0.3794;0.3804;0.3814;0.3824;0.3834;0.3844;0.3854;0.3864;0.3874;0.3884;0.3894;0.3904;0.3914;0.3924;0.3934;0.3944;0.3954;0.3964;0.3974;0.3984;0.3994;0.4004;0.4014;0.4024;0.4034;0.4044;0.4054;0.4064;0.4074;0.4084;0.4094;0.4104;0.4114;0.4124;0.4134;0.4144;0.4154;0.4164;0.4174;0.4184;0.4194;0.4204;0.4214;0.4224;0.4234;0.4244;0.4254;0.4264;0.4274;0.4284;0.4294;0.4304;0.4314;0.4324;0.4334;0.4344;0.4354;0.4364;0.4374;0.4384;0.4394;0.4404;0.4414;0.4424;0.4434;0.4444;0.4454;0.4464;0.4474;0.4484;0.4494;0.4505;0.4515;0.4525;0.4535;0.4545;0.4555;0.4565;0.4575;0.4585;0.4595;0.4605;0.4615;0.4625;0.4635;0.4645;0.4655;0.4665;0.4675;0.4685;0.4695;0.4705;0.4715;0.4725;0.4735;0.4745;0.4755;0.4765;0.4775;0.4785;0.4795;0.4805;0.4815;0.4825;0.4835;0.4845;0.4855;0.4865;0.4875;0.4885;0.4895;0.4905;0.4915;0.4925;0.4935;0.4945;0.4955;0.4965;0.4975;0.4985;0.4995;0.5005;0.5015;0.5025;0.5035;0.5045;0.5055;0.5065;0.5075;0.5085;0.5095;0.5105;0.5115;0.5125;0.5135;0.5145;0.5155;0.5165;0.5175;0.5185;0.5195;0.5205;0.5215;0.5225;0.5235;0.5245;0.5255;0.5265;0.5275;0.5285;0.5295;0.5305;0.5315;0.5325;0.5335;0.5345;0.5355;0.5365;0.5375;0.5385;0.5395;0.5405;0.5415;0.5425;0.5435;0.5445;0.5455;0.5465;0.5475;0.5485;0.5495;0.5506;0.5516;0.5526;0.5536;0.5546;0.5556;0.5566;0.5576;0.5586;0.5596;0.5606;0.5616;0.5626;0.5636;0.5646;0.5656;0.5666;0.5676;0.5686;0.5696;0.5706;0.5716;0.5726;0.5736;0.5746;0.5756;0.5766;0.5776;0.5786;0.5796;0.5806;0.5816;0.5826;0.5836;0.5846;0.5856;0.5866;0.5876;0.5886;0.5896;0.5906;0.5916;0.5926;0.5936;0.5946;0.5956;0.5966;0.5976;0.5986;0.5996;0.6006;0.6016;0.6026;0.6036;0.6046;0.6056;0.6066;0.6076;0.6086;0.6096;0.6106;0.6116;0.6126;0.6136;0.6146;0.6156;0.6166;0.6176;0.6186;0.6196;0.6206;0.6216;0.6226;0.6236;0.6246;0.6256;0.6266;0.6276;0.6286;0.6296;0.6306;0.6316;0.6326;0.6336;0.6346;0.6356;0.6366;0.6376;0.6386;0.6396;0.6406;0.6416;0.6426;0.6436;0.6446;0.6456;0.6466;0.6476;0.6486;0.6496;0.6507;0.6517;0.6527;0.6537;0.6547;0.6557;0.6567;0.6577;0.6587;0.6597;0.6607;0.6617;0.6627;0.6637;0.6647;0.6657;0.6667;0.6677;0.6687;0.6697;0.6707;0.6717;0.6727;0.6737;0.6747;0.6757;0.6767;0.6777;0.6787;0.6797;0.6807;0.6817;0.6827;0.6837;0.6847;0.6857;0.6867;0.6877;0.6887;0.6897;0.6907;0.6917;0.6927;0.6937;0.6947;0.6957;0.6967;0.6977;0.6987;0.6997;0.7007;0.7017;0.7027;0.7037;0.7047;0.7057;0.7067;0.7077;0.7087;0.7097;0.7107;0.7117;0.7127;0.7137;0.7147;0.7157;0.7167;0.7177;0.7187;0.7197;0.7207;0.7217;0.7227;0.7237;0.7247;0.7257;0.7267;0.7277;0.7287;0.7297;0.7307;0.7317;0.7327;0.7337;0.7347;0.7357;0.7367;0.7377;0.7387;0.7397;0.7407;0.7417;0.7427;0.7437;0.7447;0.7457;0.7467;0.7477;0.7487;0.7497;0.7508;0.7518;0.7528;0.7538;0.7548;0.7558;0.7568;0.7578;0.7588;0.7598;0.7608;0.7618;0.7628;0.7638;0.7648;0.7658;0.7668;0.7678;0.7688;0.7698;0.7708;0.7718;0.7728;0.7738;0.7748;0.7758;0.7768;0.7778;0.7788;0.7798;0.7808;0.7818;0.7828;0.7838;0.7848;0.7858;0.7868;0.7878;0.7888;0.7898;0.7908;0.7918;0.7928;0.7938;0.7948;0.7958;0.7968;0.7978;0.7988;0.7998;0.8008;0.8018;0.8028;0.8038;0.8048;0.8058;0.8068;0.8078;0.8088;0.8098;0.8108;0.8118;0.8128;0.8138;0.8148;0.8158;0.8168;0.8178;0.8188;0.8198;0.8208;0.8218;0.8228;0.8238;0.8248;0.8258;0.8268;0.8278;0.8288;0.8298;0.8308;0.8318;0.8328;0.8338;0.8348;0.8358;0.8368;0.8378;0.8388;0.8398;0.8408;0.8418;0.8428;0.8438;0.8448;0.8458;0.8468;0.8478;0.8488;0.8498;0.8509;0.8519;0.8529;0.8539;0.8549;0.8559;0.8569;0.8579;0.8589;0.8599;0.8609;0.8619;0.8629;0.8639;0.8649;0.8659;0.8669;0.8679;0.8689;0.8699;0.8709;0.8719;0.8729;0.8739;0.8749;0.8759;0.8769;0.8779;0.8789;0.8799;0.8809;0.8819;0.8829;0.8839;0.8849;0.8859;0.8869;0.8879;0.8889;0.8899;0.8909;0.8919;0.8929;0.8939;0.8949;0.8959;0.8969;0.8979;0.8989;0.8999;0.9009;0.9019;0.9029;0.9039;0.9049;0.9059;0.9069;0.9079;0.9089;0.9099;0.9109;0.9119;0.9129;0.9139;0.9149;0.9159;0.9169;0.9179;0.9189;0.9199;0.9209;0.9219;0.9229;0.9239;0.9249;0.9259;0.9269;0.9279;0.9289;0.9299;0.9309;0.9319;0.9329;0.9339;0.9349;0.9359;0.9369;0.9379;0.9389;0.9399;0.9409;0.9419;0.9429;0.9439;0.9449;0.9459;0.9469;0.9479;0.9489;0.9499;0.9510;0.9520;0.9530;0.9540;0.9550;0.9560;0.9570;0.9580;0.9590;0.9600;0.9610;0.9620;0.9630;0.9640;0.9650;0.9660;0.9670;0.9680;0.9690;0.9700;0.9710;0.9720;0.9730;0.9740;0.9750;0.9760;0.9770;0.9780;0.9790;0.9800;0.9810;0.9820;0.9830;0.9840;0.9850;0.9860;0.9870;0.9880;0.9890;0.9900;0.9910;0.9920;0.9930;0.9940;0.9950;0.9960;0.9970;0.9980;0.9990;1.0000 calcMode=\"linear\">\n",
       "      <mpath xlink:href=\"#motionPath\"/>\n",
       "    </animateMotion>\n",
       "  </circle>\n",
       "</svg>"
      ],
      "text/plain": [
       "<IPython.core.display.HTML object>"
      ]
     },
     "execution_count": 7,
     "metadata": {},
     "output_type": "execute_result"
    }
   ],
   "source": [
    "times = np.linspace(0,1,1000)\n",
    "pos = np.sin(times)\n",
    "keyTimes = \"\"\n",
    "keyPoints = \"\"\n",
    "for t in times:\n",
    "    keyTimes  += f'{t:0.4f};'\n",
    "    keyPoints += f'{(np.sin(30*t)*0.1+0.5):0.4f};' \n",
    "keyTimes  = keyTimes[:-1].replace(\"'\",'\"')    \n",
    "keyPoints = keyPoints[:-1].replace(\"'\",'\"') \n",
    "\n",
    "#keyPoints = \"0;0.2;0.4;0.6;0.8;1.0\"\n",
    "#keyTimes  = \"0;0.3;0.5;0.6;0.8;1.0\"\n",
    "\n",
    "HTML(f'''<svg viewBox=\"0 0 500 500\" xmlns=\"http://www.w3.org/2000/svg\"\n",
    "    xmlns:xlink=\"http://www.w3.org/1999/xlink\">\n",
    "  <path d=\"m 110.36905,102.05357 a 39.309525,39.309525 0 0 1 -19.654764,34.04305 39.309525,39.309525 0 0 1 -39.309525,0 A 39.309525,39.309525 0 0 1 31.75,102.05357\"\n",
    "      stroke=\"lightgrey\" stroke-width=\"2\" fill=\"none\" id=\"motionPath\"/>\n",
    "  <circle r=\"5\" fill=\"red\">\n",
    "    <animateMotion dur=\"30s\" repeatCount=\"indefinite\"\n",
    "        keyPoints={keyPoints} \n",
    "        keyTimes= {keyTimes} calcMode=\"linear\">\n",
    "      <mpath xlink:href=\"#motionPath\"/>\n",
    "    </animateMotion>\n",
    "  </circle>\n",
    "</svg>''')"
   ]
  }
 ],
 "metadata": {
  "celltoolbar": "Edit Metadata",
  "kernelspec": {
   "display_name": "Python 3",
   "language": "python",
   "name": "python3"
  },
  "language_info": {
   "codemirror_mode": {
    "name": "ipython",
    "version": 3
   },
   "file_extension": ".py",
   "mimetype": "text/x-python",
   "name": "python",
   "nbconvert_exporter": "python",
   "pygments_lexer": "ipython3",
   "version": "3.7.9"
  }
 },
 "nbformat": 4,
 "nbformat_minor": 4
}
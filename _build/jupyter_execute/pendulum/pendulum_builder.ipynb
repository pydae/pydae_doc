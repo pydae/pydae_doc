{
 "cells": [
  {
   "cell_type": "markdown",
   "metadata": {},
   "source": [
    "\\begin{equation}\n",
    "\\begin{split}   \\nonumber\n",
    "\\mathbf {\\dot x}  &   =  \\mathbf{f (x,y,u) } \\\\\n",
    "\\mathbf 0 &   =  \\mathbf{g (x,y,u) }  \\\\\n",
    "\\mathbf z &   =  \\mathbf{h (x,y,u) } \n",
    "\\end{split}\n",
    "\\end{equation}\n",
    "\n",
    "- $ \\mathbf x$: dynamic states \n",
    "- $ \\mathbf y$: algebraic states \n",
    "- $ \\mathbf u$: known inputs\t\t\n",
    "- $ \\mathbf f$: differential equations\n",
    "- $ \\mathbf g$: algebraic equations\t\t\n",
    "\n",
    "\n",
    "\\begin{equation} \\sf  \\nonumber\n",
    "\\mathbf x = \\left[\n",
    "\\begin{array}{c} \n",
    "x_1 \\\\ \n",
    "x_2 \\\\ \n",
    "\\vdots \\\\ \n",
    " x_{N_x}\n",
    "\\end{array} \\right] \\;\\;\n",
    "\\mathbf y = \\left[\n",
    "\\begin{array}{c} \n",
    " y_1 \\\\ \n",
    " y_2 \\\\ \n",
    "\\vdots \\\\ \n",
    "y_{N_y}\n",
    "\\end{array} \\right]\n",
    "\\end{equation}\n",
    "\n",
    "\n",
    "\n",
    "\\begin{equation} \\sf  \\nonumber\n",
    "\\mathbf f = \\left[\n",
    "\\begin{array}{c} \n",
    " f_1 \\\\ \n",
    "f_2 \\\\ \n",
    "\\vdots \\\\ \n",
    "f_{N_x}\n",
    "\\end{array} \\right] \\;\\;\n",
    "\\mathbf g = \\left[\n",
    "\\begin{array}{c} \n",
    " g_1 \\\\ \n",
    " g_2 \\\\ \n",
    "\\vdots \\\\ \n",
    " g_{N_y}\n",
    "\\end{array} \\right]\n",
    "\\end{equation}\n",
    "\n",
    "Problema de flujo de potencia e inicialización hacia atrás:\n",
    "\t\\begin{equation}\n",
    "\t\\begin{split} \\sf \\nonumber\n",
    "\t\\mathbf {\\dot x}  & \\sf =  \\mathbf {f (x,y^{ini},u^{ini}) } \\\\\n",
    "\t\\mathbf 0 & \\sf =  \\mathbf {g (x,y^{ini},u^{ini}) }  \n",
    "\t\\end{split}\n",
    "\t\\end{equation}\n",
    "\n",
    "Problema de solución hacia adelante:\n",
    "\t\\begin{equation}\n",
    "\t\\begin{split} \\sf \\nonumber\n",
    "\t\\mathbf {\\dot x}  & \\sf =  \\mathbf {f (x,y^{run},u^{run}) } \\\\\n",
    "\t\\mathbf 0 & \\sf =  \\mathbf {g (x,y^{run},u^{run}) }  \n",
    "\t\\end{split}\n",
    "\t\\end{equation}\n",
    "    \n",
    "    \n",
    "\\begin{eqnarray}\n",
    "f_1 &=& \\frac{dp_x}{dt} = v_x \\\\\n",
    "f_2 &=& \\frac{dp_y}{dt} = v_y \\\\\n",
    "f_3 &=& \\frac{dv_x}{dt} = \\frac{1}{M} \\left(-2 p_x \\lambda + f_x - K_d v_x \\right)  \\\\\n",
    "f_4 &=& \\frac{dv_y}{dt} = \\frac{1}{M} \\left(-M G - 2 p_y \\lambda - K_d v_y \\right) \\\\   \n",
    "&&\\\\\n",
    "g_1 &=& p_x^2 + p_y^2 - L^2  \\\\\n",
    "g_2 &=& -\\theta + \\arctan\\left(p_x,-p_y\\right) \\\\\n",
    "\\end{eqnarray}\n",
    "\n",
    "The dynamic states are:\n",
    "\n",
    "\\begin{equation}\n",
    "\\mathbf{f} =\n",
    "\\left[\n",
    "\\begin{array}{c}\n",
    "f_1\\\\\n",
    "f_2\\\\\n",
    "f_3\\\\\n",
    "f_4\n",
    "\\end{array}\n",
    "\\right]\n",
    "\\end{equation}\n",
    "\n",
    "\\begin{equation} \\sf  \\nonumber\n",
    "\\mathbf x = \\left[\n",
    "\\begin{array}{c} \n",
    "p_x \\\\ \n",
    "p_y \\\\ \n",
    "v_x \\\\ \n",
    "v_y \n",
    "\\end{array} \\right] \\;\\;\n",
    "\\mathbf {y^{ini}} = \\left[\n",
    "\\begin{array}{c} \n",
    " \\lambda \\\\ \n",
    " f_x\n",
    "\\end{array} \\right] \\;\\;\n",
    "\\mathbf {y^{run}} = \\left[\n",
    "\\begin{array}{c} \n",
    " \\lambda \\\\ \n",
    "\\theta\n",
    "\\end{array} \\right] \\;\\;\n",
    "\\mathbf {u^{ini}} = \\left[\n",
    "\\begin{array}{c} \n",
    "\\theta\n",
    "\\end{array} \\right] \\;\\;\n",
    "\\mathbf {u^{run}} = \\left[\n",
    "\\begin{array}{c} \n",
    "f_x\n",
    "\\end{array} \\right]\n",
    "\\end{equation}\n"
   ]
  },
  {
   "cell_type": "code",
   "execution_count": 1,
   "metadata": {},
   "outputs": [
    {
     "ename": "ModuleNotFoundError",
     "evalue": "No module named 'sympy'",
     "output_type": "error",
     "traceback": [
      "\u001b[1;31m---------------------------------------------------------------------------\u001b[0m",
      "\u001b[1;31mModuleNotFoundError\u001b[0m                       Traceback (most recent call last)",
      "\u001b[1;32m<ipython-input-1-56f4d431506e>\u001b[0m in \u001b[0;36m<module>\u001b[1;34m\u001b[0m\n\u001b[0;32m      1\u001b[0m \u001b[1;32mimport\u001b[0m \u001b[0mnumpy\u001b[0m \u001b[1;32mas\u001b[0m \u001b[0mnp\u001b[0m\u001b[1;33m\u001b[0m\u001b[1;33m\u001b[0m\u001b[0m\n\u001b[1;32m----> 2\u001b[1;33m \u001b[1;32mimport\u001b[0m \u001b[0msympy\u001b[0m \u001b[1;32mas\u001b[0m \u001b[0msym\u001b[0m\u001b[1;33m\u001b[0m\u001b[1;33m\u001b[0m\u001b[0m\n\u001b[0m\u001b[0;32m      3\u001b[0m \u001b[1;32mimport\u001b[0m \u001b[0mpydae\u001b[0m\u001b[1;33m.\u001b[0m\u001b[0mbuild\u001b[0m \u001b[1;32mas\u001b[0m \u001b[0mdb\u001b[0m\u001b[1;33m\u001b[0m\u001b[1;33m\u001b[0m\u001b[0m\n",
      "\u001b[1;31mModuleNotFoundError\u001b[0m: No module named 'sympy'"
     ]
    }
   ],
   "source": [
    "import numpy as np\n",
    "import sympy as sym\n",
    "import pydae.build as db"
   ]
  },
  {
   "cell_type": "markdown",
   "metadata": {},
   "source": [
    "### Definition of variables and constants"
   ]
  },
  {
   "cell_type": "code",
   "execution_count": null,
   "metadata": {},
   "outputs": [],
   "source": [
    "params_dict = {'L':5.21,'G':9.81,'M':10.0,'K_d':1e-6}\n",
    "\n",
    "\n",
    "u_ini_dict = {'theta':np.deg2rad(5.0)}  # input for the initialization problem\n",
    "u_run_dict = {'f_x':0}                  # input for the running problem, its value is updated \n",
    "\n",
    "\n",
    "x_list = ['p_x','p_y','v_x','v_y']  # dynamic states\n",
    "y_ini_list = ['lam','f_x']          # algebraic states for the initialization problem\n",
    "y_run_list = ['lam','theta']        # algebraic for the running problem\n",
    "\n",
    "sys_vars = {'params':params_dict,\n",
    "            'u_list':u_run_dict,\n",
    "            'x_list':x_list,\n",
    "            'y_list':y_run_list}\n",
    "\n",
    "exec(db.sym_gen_str())  # exec to generate the required symbolic varables and constants"
   ]
  },
  {
   "cell_type": "markdown",
   "metadata": {},
   "source": [
    "### System formulation"
   ]
  },
  {
   "cell_type": "code",
   "execution_count": 8,
   "metadata": {},
   "outputs": [],
   "source": [
    "dp_x = v_x\n",
    "dp_y = v_y\n",
    "dv_x = (-2*p_x*lam + f_x - K_d*v_x)/M\n",
    "dv_y = (-M*G - 2*p_y*lam - K_d*v_y)/M   \n",
    "\n",
    "g_1 = p_x**2 + p_y**2 - L**2 -lam*1e-6\n",
    "g_2 = -theta + sym.atan2(p_x,-p_y)"
   ]
  },
  {
   "cell_type": "markdown",
   "metadata": {},
   "source": [
    "## Build the model"
   ]
  },
  {
   "cell_type": "code",
   "execution_count": 9,
   "metadata": {},
   "outputs": [],
   "source": [
    "sys = {'name':'pendulum',\n",
    "       'params_dict':params_dict,\n",
    "       'f_list':[dp_x,dp_y,dv_x,dv_y],\n",
    "       'g_list':[g_1,g_2],\n",
    "       'x_list':x_list,\n",
    "       'y_ini_list':y_ini_list,\n",
    "       'y_run_list':y_run_list,\n",
    "       'u_run_dict':u_run_dict,\n",
    "       'u_ini_dict':u_ini_dict,\n",
    "       'h_dict':{'g_1':g_1,'PE':M*G*p_y,'KE':0.5*M*(v_x**2+v_y**2),'theta':theta}}\n",
    "\n",
    "sys = db.system(sys)\n",
    "db.sys2num(sys)"
   ]
  },
  {
   "cell_type": "markdown",
   "metadata": {},
   "source": [
    "\\begin{gather*}\n",
    "a_1=b_1+c_1\\\\\n",
    "a_2=b_2+c_2-d_2+e_2\n",
    "\\end{gather*}\n",
    "\n",
    "\\begin{align}\n",
    "a_{11}& =b_{11}&\n",
    "  a_{12}& =b_{12}\\\\\n",
    "a_{21}& =b_{21}&\n",
    "  a_{22}& =b_{22}+c_{22}\n",
    "\\end{align}"
   ]
  },
  {
   "cell_type": "code",
   "execution_count": null,
   "metadata": {},
   "outputs": [],
   "source": []
  }
 ],
 "metadata": {
  "kernelspec": {
   "display_name": "Python 3",
   "language": "python",
   "name": "python3"
  },
  "language_info": {
   "codemirror_mode": {
    "name": "ipython",
    "version": 3
   },
   "file_extension": ".py",
   "mimetype": "text/x-python",
   "name": "python",
   "nbconvert_exporter": "python",
   "pygments_lexer": "ipython3",
   "version": "3.7.9"
  }
 },
 "nbformat": 4,
 "nbformat_minor": 4
}
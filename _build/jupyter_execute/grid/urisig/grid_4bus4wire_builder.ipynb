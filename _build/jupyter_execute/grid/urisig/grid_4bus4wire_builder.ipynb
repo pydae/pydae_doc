{
 "cells": [
  {
   "cell_type": "code",
   "execution_count": 1,
   "metadata": {},
   "outputs": [
    {
     "ename": "ModuleNotFoundError",
     "evalue": "No module named 'pydgrid'",
     "output_type": "error",
     "traceback": [
      "\u001b[1;31m---------------------------------------------------------------------------\u001b[0m",
      "\u001b[1;31mModuleNotFoundError\u001b[0m                       Traceback (most recent call last)",
      "\u001b[1;32m<ipython-input-1-b3da3a6cf406>\u001b[0m in \u001b[0;36m<module>\u001b[1;34m\u001b[0m\n\u001b[0;32m      1\u001b[0m \u001b[1;32mimport\u001b[0m \u001b[0mnumpy\u001b[0m \u001b[1;32mas\u001b[0m \u001b[0mnp\u001b[0m\u001b[1;33m\u001b[0m\u001b[1;33m\u001b[0m\u001b[0m\n\u001b[1;32m----> 2\u001b[1;33m \u001b[1;32mfrom\u001b[0m \u001b[0mpydgrid\u001b[0m\u001b[1;33m.\u001b[0m\u001b[0mplot_bokeh\u001b[0m \u001b[1;32mimport\u001b[0m \u001b[0mplot_results\u001b[0m\u001b[1;33m\u001b[0m\u001b[1;33m\u001b[0m\u001b[0m\n\u001b[0m\u001b[0;32m      3\u001b[0m \u001b[1;32mimport\u001b[0m \u001b[0msympy\u001b[0m \u001b[1;32mas\u001b[0m \u001b[0msym\u001b[0m\u001b[1;33m\u001b[0m\u001b[1;33m\u001b[0m\u001b[0m\n\u001b[0;32m      4\u001b[0m \u001b[1;32mimport\u001b[0m \u001b[0mpydae\u001b[0m\u001b[1;33m.\u001b[0m\u001b[0mbuild\u001b[0m \u001b[1;32mas\u001b[0m \u001b[0mdb\u001b[0m\u001b[1;33m\u001b[0m\u001b[1;33m\u001b[0m\u001b[0m\n\u001b[0;32m      5\u001b[0m \u001b[1;32mfrom\u001b[0m \u001b[0mpydae\u001b[0m\u001b[1;33m.\u001b[0m\u001b[0mgrid_urisi\u001b[0m \u001b[1;32mimport\u001b[0m \u001b[0munb_ri_si\u001b[0m\u001b[1;33m\u001b[0m\u001b[1;33m\u001b[0m\u001b[0m\n",
      "\u001b[1;31mModuleNotFoundError\u001b[0m: No module named 'pydgrid'"
     ]
    }
   ],
   "source": [
    "import numpy as np\n",
    "from pydgrid.plot_bokeh import plot_results\n",
    "import sympy as sym\n",
    "import pydae.build as db\n",
    "from pydae.grid_urisi import unb_ri_si\n",
    "import json"
   ]
  },
  {
   "cell_type": "code",
   "execution_count": 2,
   "metadata": {},
   "outputs": [],
   "source": [
    "data = {\n",
    "        \"buses\":[\n",
    "                 {\"bus\": \"B1\",  \"pos_x\":   0, \"pos_y\":  0, \"units\": \"m\", \"U_kV\":0.4},\n",
    "                 {\"bus\": \"B2\",  \"pos_x\":  20, \"pos_y\":  0, \"units\": \"m\", \"U_kV\":0.4},\n",
    "                 {\"bus\": \"B3\",  \"pos_x\": 120, \"pos_y\":  0, \"units\": \"m\", \"U_kV\":0.4},\n",
    "                 {\"bus\": \"B4\",  \"pos_x\": 140, \"pos_y\":  0, \"units\": \"m\", \"U_kV\":0.4}\n",
    "                ],\n",
    "        \"grid_formers\":[\n",
    "                        {\"bus\": \"B1\",\n",
    "                        \"bus_nodes\": [1, 2, 3], \"deg\": [0, -120, -240],\n",
    "                        \"kV\": [0.231, 0.231, 0.231]},\n",
    "                        {\"bus\": \"B4\",\n",
    "                        \"bus_nodes\": [1, 2, 3], \"deg\": [0, -120, -240],\n",
    "                        \"kV\": [0.231, 0.231, 0.231]}\n",
    "                       ],\n",
    "        \"lines\":[\n",
    "                 {\"bus_j\": \"B1\",  \"bus_k\": \"B2\",  \"code\": \"lv_cu_150\", \"m\":  20.0},\n",
    "                 {\"bus_j\": \"B2\",  \"bus_k\": \"B3\",  \"code\": \"lv_cu_150\", \"m\": 100.0},\n",
    "                 {\"bus_j\": \"B3\",  \"bus_k\": \"B4\",  \"code\": \"lv_cu_150\", \"m\":  20.0},\n",
    "                ],\n",
    "        \"loads\":[\n",
    "                 {\"bus\": \"B2\" , \"kVA\": [30.0,30.0,30.0], \"pf\":[ 1]*3,\"type\":\"3P+N\"},\n",
    "                 {\"bus\": \"B3\" , \"kVA\": [10.0,10.0,70.0], \"pf\":[ 1]*3,\"type\":\"3P+N\"}\n",
    "                ],\n",
    "        \"shunts\":[\n",
    "                 {\"bus\": \"B1\" , \"R\": 0.001, \"X\": 0.0, \"bus_nodes\": [4,0]},\n",
    "                 {\"bus\": \"B4\" , \"R\": 0.001, \"X\": 0.0, \"bus_nodes\": [4,0]}\n",
    "                 ],\n",
    "        \"line_codes\":\n",
    "            {\"lv_cu_150\":  {\"Rph\":0.167,\"Xph\":0.08, \"Rn\":0.167, \"Xn\": 0.08}\n",
    "            }\n",
    "       }"
   ]
  },
  {
   "cell_type": "code",
   "execution_count": 3,
   "metadata": {},
   "outputs": [],
   "source": [
    "grid_dae = unb_ri_si(data)"
   ]
  },
  {
   "cell_type": "code",
   "execution_count": 4,
   "metadata": {},
   "outputs": [
    {
     "name": "stdout",
     "output_type": "stream",
     "text": [
      "system without dynamic equations, adding dummy dynamic equation\n"
     ]
    },
    {
     "ename": "NameError",
     "evalue": "name 'grid_dict' is not defined",
     "output_type": "error",
     "traceback": [
      "\u001b[1;31m---------------------------------------------------------------------------\u001b[0m",
      "\u001b[1;31mNameError\u001b[0m                                 Traceback (most recent call last)",
      "\u001b[1;32m<ipython-input-4-3597d415570e>\u001b[0m in \u001b[0;36m<module>\u001b[1;34m\u001b[0m\n\u001b[0;32m     23\u001b[0m \u001b[0mdb\u001b[0m\u001b[1;33m.\u001b[0m\u001b[0msys2num\u001b[0m\u001b[1;33m(\u001b[0m\u001b[0msys_dict\u001b[0m\u001b[1;33m)\u001b[0m\u001b[1;33m\u001b[0m\u001b[1;33m\u001b[0m\u001b[0m\n\u001b[0;32m     24\u001b[0m \u001b[1;33m\u001b[0m\u001b[0m\n\u001b[1;32m---> 25\u001b[1;33m \u001b[0mdata\u001b[0m \u001b[1;33m=\u001b[0m \u001b[0mjson\u001b[0m\u001b[1;33m.\u001b[0m\u001b[0mdumps\u001b[0m\u001b[1;33m(\u001b[0m\u001b[0mgrid_dict\u001b[0m\u001b[1;33m[\u001b[0m\u001b[1;34m'xy_0_dict'\u001b[0m\u001b[1;33m]\u001b[0m\u001b[1;33m,\u001b[0m \u001b[0mindent\u001b[0m\u001b[1;33m=\u001b[0m\u001b[1;36m4\u001b[0m\u001b[1;33m)\u001b[0m\u001b[1;33m\u001b[0m\u001b[1;33m\u001b[0m\u001b[0m\n\u001b[0m\u001b[0;32m     26\u001b[0m \u001b[0mfobj\u001b[0m \u001b[1;33m=\u001b[0m \u001b[0mopen\u001b[0m\u001b[1;33m(\u001b[0m\u001b[1;34m\"xy_0_dict.json\"\u001b[0m\u001b[1;33m,\u001b[0m\u001b[1;34m\"w\"\u001b[0m\u001b[1;33m)\u001b[0m\u001b[1;33m\u001b[0m\u001b[1;33m\u001b[0m\u001b[0m\n\u001b[0;32m     27\u001b[0m \u001b[0mfobj\u001b[0m\u001b[1;33m.\u001b[0m\u001b[0mwrite\u001b[0m\u001b[1;33m(\u001b[0m\u001b[0mdata\u001b[0m\u001b[1;33m)\u001b[0m\u001b[1;33m\u001b[0m\u001b[1;33m\u001b[0m\u001b[0m\n",
      "\u001b[1;31mNameError\u001b[0m: name 'grid_dict' is not defined"
     ]
    }
   ],
   "source": [
    "params_dict  = grid_dae['params']\n",
    "f_list = grid_dae['f']\n",
    "x_list = grid_dae['x']\n",
    "g_list = grid_dae['g']\n",
    "y_list = grid_dae['y']\n",
    "u_dict = grid_dae['u']\n",
    "a = sym.Symbol('a')\n",
    "h_dict = grid_dae['h_v_m_dict']\n",
    "\n",
    "sys_dict = {'name':'grid_4bus4wire',\n",
    "           'params_dict':params_dict,\n",
    "           'f_list':f_list,\n",
    "           'g_list':g_list,\n",
    "           'x_list':x_list,\n",
    "           'y_ini_list':y_list,\n",
    "           'y_run_list':y_list,\n",
    "           'u_run_dict':u_dict,\n",
    "           'u_ini_dict':u_dict,\n",
    "           'h_dict':h_dict\n",
    "           }\n",
    "\n",
    "db.system(sys_dict)\n",
    "db.sys2num(sys_dict)\n",
    "\n",
    "data = json.dumps(grid_dict['xy_0_dict'], indent=4)\n",
    "fobj = open(\"xy_0_dict.json\",\"w\")\n",
    "fobj.write(data)\n",
    "fobj.close()"
   ]
  },
  {
   "cell_type": "code",
   "execution_count": null,
   "metadata": {},
   "outputs": [],
   "source": [
    "Y_ii = grid_1.Y_ii.toarray()\n",
    "Y_vv = grid_1.Y_vv\n",
    "Y_vi = grid_1.Y_vi\n",
    "inv_Y_ii = np.linalg.inv(Y_ii)\n",
    "N_nz_nodes = grid_1.params_pf[0].N_nz_nodes\n",
    "N_v = grid_1.params_pf[0].N_nodes_v\n",
    "nodes_list = grid_1.nodes\n",
    "Y_primitive = grid_1.Y_primitive_sp.toarray() \n",
    "A_conect = grid_1.A_sp.toarray()\n",
    "node_sorter  = grid_1.node_sorter\n",
    "N_v = grid_1.N_nodes_v\n",
    "\n",
    "np.savez('matrices',Y_primitive=Y_primitive,A_conect=A_conect,nodes_list=nodes_list,\n",
    "         node_sorter=node_sorter,N_v=N_v, Y_vv=Y_vv, Y_vi=Y_vi)\n",
    "\n",
    "\n",
    "with open(\"grid_data.json\", \"w\") as fobj:\n",
    "    json.dump(grid_1.data, fobj, indent=4, sort_keys=True)\n"
   ]
  },
  {
   "cell_type": "code",
   "execution_count": null,
   "metadata": {},
   "outputs": [],
   "source": []
  },
  {
   "cell_type": "code",
   "execution_count": null,
   "metadata": {},
   "outputs": [],
   "source": []
  }
 ],
 "metadata": {
  "kernelspec": {
   "display_name": "Python 3",
   "language": "python",
   "name": "python3"
  },
  "language_info": {
   "codemirror_mode": {
    "name": "ipython",
    "version": 3
   },
   "file_extension": ".py",
   "mimetype": "text/x-python",
   "name": "python",
   "nbconvert_exporter": "python",
   "pygments_lexer": "ipython3",
   "version": "3.7.9"
  }
 },
 "nbformat": 4,
 "nbformat_minor": 4
}
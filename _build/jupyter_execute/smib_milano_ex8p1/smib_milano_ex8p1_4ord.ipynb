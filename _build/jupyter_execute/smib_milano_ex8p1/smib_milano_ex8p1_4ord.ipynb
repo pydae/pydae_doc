{
 "cells": [
  {
   "cell_type": "markdown",
   "metadata": {},
   "source": [
    "# SMIB system as in Milano's book example 8.1"
   ]
  },
  {
   "cell_type": "code",
   "execution_count": 1,
   "metadata": {},
   "outputs": [],
   "source": [
    "import numpy as np\n",
    "import matplotlib.pyplot as plt\n",
    "from IPython.core.display import HTML\n",
    "%config InlineBackend.figure_format = 'svg'\n",
    "plt.ion()"
   ]
  },
  {
   "cell_type": "code",
   "execution_count": 2,
   "metadata": {},
   "outputs": [],
   "source": [
    "%matplotlib widget"
   ]
  },
  {
   "cell_type": "code",
   "execution_count": 3,
   "metadata": {},
   "outputs": [],
   "source": [
    "from pydae import ssa\n",
    "from smib_milano_ex8p1_4ord import smib_milano_ex8p1_4ord_class"
   ]
  },
  {
   "cell_type": "markdown",
   "metadata": {},
   "source": [
    "### Instantiate system"
   ]
  },
  {
   "cell_type": "code",
   "execution_count": 4,
   "metadata": {},
   "outputs": [],
   "source": [
    "smib = smib_milano_ex8p1_4ord_class()\n",
    "smib.t_end = 15.0\n",
    "smib.Dt = 0.01\n",
    "smib.decimation =1\n",
    "smib.update()"
   ]
  },
  {
   "cell_type": "markdown",
   "metadata": {},
   "source": [
    "### Initialize the system (backward and foreward)"
   ]
  },
  {
   "cell_type": "code",
   "execution_count": 5,
   "metadata": {},
   "outputs": [
    {
     "name": "stdout",
     "output_type": "stream",
     "text": [
      "delta =  0.13\n",
      "omega =  1.00\n",
      "e1q   =  1.06\n",
      "e1d   =  0.08\n",
      "i_d   =  0.21\n",
      "i_q   =  0.07\n",
      "v_1   =  1.00\n",
      "theta_1 =  0.00\n",
      "p_t   =  0.10\n",
      "q_t   =  0.20\n",
      "p_m   =  0.10\n",
      "p_e   =  0.10\n",
      "p_m   =  0.10\n",
      "v_f   =  1.38\n",
      "X_d   =  1.81\n",
      "X1d   =  0.30\n",
      "T1d0  =  8.00\n",
      "X_q   =  1.76\n",
      "X1q   =  0.65\n",
      "T1q0  =  1.00\n",
      "R_a   =  0.00\n",
      "X_line =  0.01\n",
      "H     =  3.50\n",
      "D     =  1.00\n",
      "Omega_b = 314.16\n",
      "omega_s =  1.00\n",
      "v_0   =  1.00\n",
      "theta_0 =  0.00\n",
      "B_shunt =  0.00\n"
     ]
    }
   ],
   "source": [
    "events=[{'p_t':0.1,'X_line':0.01}]\n",
    "smib.initialize(events,xy0='xy_0.json')\n",
    "smib.save_0()\n",
    "\n",
    "smib.report_x()  # obtained dynamic states\n",
    "smib.report_y()  # obtained algebraic states\n",
    "smib.report_z()  # obtained outputs\n",
    "smib.report_u()  # obtained algebraic states (theta is both state and output; f_x is both input and output)\n",
    "smib.report_params()  # considered parameters"
   ]
  },
  {
   "cell_type": "markdown",
   "metadata": {},
   "source": [
    "### Small signal analisys"
   ]
  },
  {
   "cell_type": "code",
   "execution_count": 6,
   "metadata": {},
   "outputs": [
    {
     "data": {
      "text/html": [
       "<div>\n",
       "<style scoped>\n",
       "    .dataframe tbody tr th:only-of-type {\n",
       "        vertical-align: middle;\n",
       "    }\n",
       "\n",
       "    .dataframe tbody tr th {\n",
       "        vertical-align: top;\n",
       "    }\n",
       "\n",
       "    .dataframe thead th {\n",
       "        text-align: right;\n",
       "    }\n",
       "</style>\n",
       "<table border=\"1\" class=\"dataframe\">\n",
       "  <thead>\n",
       "    <tr style=\"text-align: right;\">\n",
       "      <th></th>\n",
       "      <th>Real</th>\n",
       "      <th>Imag</th>\n",
       "      <th>Freq.</th>\n",
       "      <th>Damp</th>\n",
       "    </tr>\n",
       "  </thead>\n",
       "  <tbody>\n",
       "    <tr>\n",
       "      <th>Mode 1</th>\n",
       "      <td>-0.786813</td>\n",
       "      <td>8.724618</td>\n",
       "      <td>1.388566</td>\n",
       "      <td>0.089819</td>\n",
       "    </tr>\n",
       "    <tr>\n",
       "      <th>Mode 2</th>\n",
       "      <td>-0.786813</td>\n",
       "      <td>-8.724618</td>\n",
       "      <td>1.388566</td>\n",
       "      <td>0.089819</td>\n",
       "    </tr>\n",
       "    <tr>\n",
       "      <th>Mode 3</th>\n",
       "      <td>-1.316274</td>\n",
       "      <td>0.000000</td>\n",
       "      <td>0.000000</td>\n",
       "      <td>1.000000</td>\n",
       "    </tr>\n",
       "    <tr>\n",
       "      <th>Mode 4</th>\n",
       "      <td>-0.668545</td>\n",
       "      <td>0.000000</td>\n",
       "      <td>0.000000</td>\n",
       "      <td>1.000000</td>\n",
       "    </tr>\n",
       "  </tbody>\n",
       "</table>\n",
       "</div>"
      ],
      "text/plain": [
       "            Real      Imag     Freq.      Damp\n",
       "Mode 1 -0.786813  8.724618  1.388566  0.089819\n",
       "Mode 2 -0.786813 -8.724618  1.388566  0.089819\n",
       "Mode 3 -1.316274  0.000000  0.000000  1.000000\n",
       "Mode 4 -0.668545  0.000000  0.000000  1.000000"
      ]
     },
     "execution_count": 6,
     "metadata": {},
     "output_type": "execute_result"
    }
   ],
   "source": [
    "ssa.eval_A(smib)              # method to linealized the system and to compute matrix A\n",
    "eig_df=ssa.damp_report(smib)  # method to create a pandas.DataFrame after computing eigenvalues for A\n",
    "eig_df"
   ]
  },
  {
   "cell_type": "code",
   "execution_count": 7,
   "metadata": {},
   "outputs": [
    {
     "data": {
      "text/html": [
       "<div>\n",
       "<style scoped>\n",
       "    .dataframe tbody tr th:only-of-type {\n",
       "        vertical-align: middle;\n",
       "    }\n",
       "\n",
       "    .dataframe tbody tr th {\n",
       "        vertical-align: top;\n",
       "    }\n",
       "\n",
       "    .dataframe thead th {\n",
       "        text-align: right;\n",
       "    }\n",
       "</style>\n",
       "<table border=\"1\" class=\"dataframe\">\n",
       "  <thead>\n",
       "    <tr style=\"text-align: right;\">\n",
       "      <th></th>\n",
       "      <th>Mode 1</th>\n",
       "      <th>Mode 2</th>\n",
       "      <th>Mode 3</th>\n",
       "      <th>Mode 4</th>\n",
       "    </tr>\n",
       "  </thead>\n",
       "  <tbody>\n",
       "    <tr>\n",
       "      <th>delta</th>\n",
       "      <td>0.51</td>\n",
       "      <td>0.51</td>\n",
       "      <td>0.02</td>\n",
       "      <td>0.00</td>\n",
       "    </tr>\n",
       "    <tr>\n",
       "      <th>omega</th>\n",
       "      <td>0.51</td>\n",
       "      <td>0.51</td>\n",
       "      <td>0.02</td>\n",
       "      <td>0.00</td>\n",
       "    </tr>\n",
       "    <tr>\n",
       "      <th>e1q</th>\n",
       "      <td>0.00</td>\n",
       "      <td>0.00</td>\n",
       "      <td>0.07</td>\n",
       "      <td>0.93</td>\n",
       "    </tr>\n",
       "    <tr>\n",
       "      <th>e1d</th>\n",
       "      <td>0.08</td>\n",
       "      <td>0.08</td>\n",
       "      <td>0.97</td>\n",
       "      <td>0.07</td>\n",
       "    </tr>\n",
       "  </tbody>\n",
       "</table>\n",
       "</div>"
      ],
      "text/plain": [
       "       Mode 1  Mode 2  Mode 3  Mode 4\n",
       "delta    0.51    0.51    0.02    0.00\n",
       "omega    0.51    0.51    0.02    0.00\n",
       "e1q      0.00    0.00    0.07    0.93\n",
       "e1d      0.08    0.08    0.97    0.07"
      ]
     },
     "execution_count": 7,
     "metadata": {},
     "output_type": "execute_result"
    }
   ],
   "source": [
    "ssa.participation(smib).abs().round(2)  "
   ]
  },
  {
   "cell_type": "markdown",
   "metadata": {},
   "source": [
    "### Simulation\n",
    "\n",
    "A time simulation can be performed using the method `simulate`:"
   ]
  },
  {
   "cell_type": "code",
   "execution_count": 8,
   "metadata": {},
   "outputs": [],
   "source": [
    "smib.initialize([{'p_t':0.7, 'q_t':0.2}],xy0='xy_0.json')\n",
    "smib.simulate([{'t_end':1},   # compute initial condition with defined P and Q and run until t=1s\n",
    "               {'t_end':20, 'v_f':2.5}],           # compute initial condition with defined P and Q and run until t=1s   \n",
    "                'prev');                              "
   ]
  },
  {
   "cell_type": "code",
   "execution_count": 9,
   "metadata": {},
   "outputs": [
    {
     "data": {
      "application/vnd.jupyter.widget-view+json": {
       "model_id": "75ca09ad7c9c409bbdc214b675aa1230",
       "version_major": 2,
       "version_minor": 0
      },
      "text/plain": [
       "Canvas(toolbar=Toolbar(toolitems=[('Home', 'Reset original view', 'home', 'home'), ('Back', 'Back to previous …"
      ]
     },
     "metadata": {},
     "output_type": "display_data"
    }
   ],
   "source": [
    "# plotting the results with matplolib:\n",
    "plt.close('all')\n",
    "fig, axes = plt.subplots(nrows=1,ncols=1, figsize=(6, 3), dpi=100)\n",
    "\n",
    "axes.plot(smib.T, smib.get_values('p_t') , label=f'$p_t$')\n",
    "axes.plot(smib.T, smib.get_values('q_t') , label=f'$q_t$')\n",
    "axes.grid()\n",
    "axes.set_ylabel('Powers (p.u.)')\n",
    "axes.set_xlabel('Time (s)')\n",
    "axes.legend()\n",
    "fig.tight_layout()"
   ]
  },
  {
   "cell_type": "code",
   "execution_count": null,
   "metadata": {},
   "outputs": [],
   "source": []
  },
  {
   "cell_type": "code",
   "execution_count": 72,
   "metadata": {},
   "outputs": [],
   "source": [
    "def simulate_fault(system,duration,X_fault=1e-4,N_steps=500):\n",
    "    Dt = smib.struct[0].Dt\n",
    "    Dt_recovery = 10e-6\n",
    "    t_0 = smib.struct[0].t\n",
    "    system.run([{'t_end':t_0+duration,'B_shunt':1/X_fault}])\n",
    "    it = 0.0\n",
    "    for x in np.linspace(0,1.0,N_steps):\n",
    "        #B_shunt = 1/X_fault - x**2/X_fault\n",
    "        B_shunt = 1/X_fault - x/X_fault\n",
    "        \n",
    "        B_shunt = 1/X_fault - x**0.5/X_fault\n",
    "        system.run([{'Dt':Dt_recovery/2,'t_end':t_0+duration+it*Dt_recovery,'B_shunt':B_shunt}])\n",
    "        it+=1.0\n",
    "    system.run([{'Dt':Dt_recovery/2,'t_end':t_0+duration+(it+1)*Dt_recovery,'B_shunt':0.0}])\n",
    "    system.run([{'Dt':Dt,'t_end':t_0+duration+Dt,'B_shunt':0.0}])\n",
    "    \n",
    "    \n",
    "smib = smib_milano_ex8p1_4ord_class()\n",
    "\n",
    "smib.initialize([{'p_t':0.8, 'q_t':0.4, 'D':0.0}],1)\n",
    "smib.run([{'t_end':1}])  \n",
    "simulate_fault(smib,0.05)\n",
    "smib.run([{'t_end':20}])\n",
    "\n",
    "smib.post();"
   ]
  },
  {
   "cell_type": "code",
   "execution_count": 73,
   "metadata": {},
   "outputs": [
    {
     "data": {
      "application/vnd.jupyter.widget-view+json": {
       "model_id": "8d76c0be979f48cd82d60e5b4c6aba11",
       "version_major": 2,
       "version_minor": 0
      },
      "text/plain": [
       "Canvas(toolbar=Toolbar(toolitems=[('Home', 'Reset original view', 'home', 'home'), ('Back', 'Back to previous …"
      ]
     },
     "metadata": {},
     "output_type": "display_data"
    }
   ],
   "source": [
    "# plotting the results with matplolib:\n",
    "plt.close('all')\n",
    "fig, axes = plt.subplots(nrows=3,ncols=1, figsize=(6, 6), dpi=100, sharex=True)\n",
    "\n",
    "axes[0].plot(smib.T, smib.get_values('v_1') , label=f'$v_1$')\n",
    "\n",
    "axes[1].plot(smib.T, np.rad2deg(smib.get_values('delta')) , label=f'$\\delta$')\n",
    "\n",
    "axes[2].plot(smib.T, smib.get_values('omega') , label=f'$\\omega$')\n",
    "\n",
    "axes[0].set_ylabel('Powers (p.u.)')\n",
    "axes[1].set_xlabel('Time (s)')\n",
    "\n",
    "\n",
    "for ax in axes:\n",
    "    ax.legend()\n",
    "    ax.grid()\n",
    "    \n",
    "fig.tight_layout()"
   ]
  },
  {
   "cell_type": "code",
   "execution_count": 69,
   "metadata": {},
   "outputs": [
    {
     "data": {
      "application/vnd.jupyter.widget-view+json": {
       "model_id": "4dd1a1aa137f4e6e9d190aa4f18bd8ac",
       "version_major": 2,
       "version_minor": 0
      },
      "text/plain": [
       "Canvas(toolbar=Toolbar(toolitems=[('Home', 'Reset original view', 'home', 'home'), ('Back', 'Back to previous …"
      ]
     },
     "metadata": {},
     "output_type": "display_data"
    }
   ],
   "source": [
    "# plotting the results with matplolib:\n",
    "plt.close('all')\n",
    "fig, axes = plt.subplots(nrows=1,ncols=1, figsize=(6, 3), dpi=100)\n",
    "\n",
    "axes.plot(np.rad2deg(smib.get_values('delta')), smib.get_values('p_m') , label=f'$p_m$')\n",
    "axes.plot(np.rad2deg(smib.get_values('delta')), smib.get_values('p_t') , label=f'$p_t$')\n",
    "\n",
    "axes.grid()\n",
    "axes.set_ylabel('Powers (p.u.)')\n",
    "axes.set_xlabel('Time (s)')\n",
    "axes.legend()\n",
    "fig.tight_layout()"
   ]
  },
  {
   "cell_type": "code",
   "execution_count": 113,
   "metadata": {},
   "outputs": [
    {
     "data": {
      "text/plain": [
       "1"
      ]
     },
     "execution_count": 113,
     "metadata": {},
     "output_type": "execute_result"
    }
   ],
   "source": [
    "smib.decimation"
   ]
  },
  {
   "cell_type": "code",
   "execution_count": 124,
   "metadata": {},
   "outputs": [
    {
     "data": {
      "text/plain": [
       "array([1.])"
      ]
     },
     "execution_count": 124,
     "metadata": {},
     "output_type": "execute_result"
    }
   ],
   "source": [
    "smib.struct[0]['iters'][smib.struct[0]['it']]"
   ]
  },
  {
   "cell_type": "code",
   "execution_count": 139,
   "metadata": {},
   "outputs": [],
   "source": []
  },
  {
   "cell_type": "code",
   "execution_count": 157,
   "metadata": {},
   "outputs": [
    {
     "data": {
      "application/vnd.jupyter.widget-view+json": {
       "model_id": "024c743d916f469c967ad682c485c7d3",
       "version_major": 2,
       "version_minor": 0
      },
      "text/plain": [
       "Canvas(toolbar=Toolbar(toolitems=[('Home', 'Reset original view', 'home', 'home'), ('Back', 'Back to previous …"
      ]
     },
     "metadata": {},
     "output_type": "display_data"
    },
    {
     "data": {
      "text/plain": [
       "[<matplotlib.lines.Line2D at 0x22ce456b6d0>]"
      ]
     },
     "execution_count": 157,
     "metadata": {},
     "output_type": "execute_result"
    }
   ],
   "source": [
    "X_fault = 1e-3\n",
    "x = np.linspace(0,1.0,200) \n",
    "B_shunt = 1/X_fault - x**0.5/X_fault\n",
    "\n",
    "fig, axes = plt.subplots(nrows=1,ncols=1, figsize=(6, 3), dpi=100)\n",
    "\n",
    "axes.plot(x, B_shunt)"
   ]
  },
  {
   "cell_type": "code",
   "execution_count": null,
   "metadata": {},
   "outputs": [],
   "source": []
  },
  {
   "cell_type": "code",
   "execution_count": 74,
   "metadata": {},
   "outputs": [],
   "source": [
    "import xml.etree.ElementTree\n"
   ]
  },
  {
   "cell_type": "code",
   "execution_count": null,
   "metadata": {},
   "outputs": [],
   "source": []
  }
 ],
 "metadata": {
  "kernelspec": {
   "display_name": "Python 3",
   "language": "python",
   "name": "python3"
  },
  "language_info": {
   "codemirror_mode": {
    "name": "ipython",
    "version": 3
   },
   "file_extension": ".py",
   "mimetype": "text/x-python",
   "name": "python",
   "nbconvert_exporter": "python",
   "pygments_lexer": "ipython3",
   "version": "3.7.9"
  }
 },
 "nbformat": 4,
 "nbformat_minor": 4
}
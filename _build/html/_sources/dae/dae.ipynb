{
 "cells": [
  {
   "attachments": {},
   "cell_type": "markdown",
   "metadata": {},
   "source": [
    "### Differential Algebraic Equations (DAE)\n",
    "\n",
    "$$\n",
    "\\begin{split}   \\nonumber\n",
    "\\mathbf {\\dot x}  &   =  \\mathbf{f (x,y,u) } \\\\\n",
    "\\mathbf 0 &   =  \\mathbf{g (x,y,u,p) }  \\\\\n",
    "\\mathbf z &   =  \\mathbf{h (x,y,u,p) } \n",
    "\\end{split}\n",
    "$$\n",
    "\n",
    "with:\n",
    "\n",
    "- $ \\mathbf x$: dynamic states\n",
    "- $ \\mathbf y$: algebraic states\n",
    "- $ \\mathbf u$: known inputs\t\n",
    "- $ \\mathbf p$: parameters\t\t\n",
    "- $ \\mathbf f$: differential equations\n",
    "- $ \\mathbf g$: algebraic equations\t\n",
    "- $ \\mathbf z$: outputs\n",
    "- $ \\mathbf h$: outputs functions\n",
    "\n",
    "\n",
    "$$ \n",
    "\\mathbf x = \\left[\n",
    "\\begin{array}{c} \n",
    "x_1 \\\\ \n",
    "x_2 \\\\ \n",
    "\\vdots \\\\ \n",
    " x_{N_x}\n",
    "\\end{array} \\right] \\;\\;\n",
    "\\mathbf y = \\left[\n",
    "\\begin{array}{c} \n",
    " y_1 \\\\ \n",
    " y_2 \\\\ \n",
    "\\vdots \\\\ \n",
    "y_{N_y}\n",
    "\\end{array} \\right]\n",
    "$$\n",
    "\n",
    "\n",
    "Backward solution:\n",
    "\n",
    "$$\n",
    "\\begin{split} \n",
    "\\mathbf {\\dot x}  &  =  \\mathbf {f (x,y^{ini},u^{ini},p) } \\\\\n",
    "\\mathbf 0 & =  \\mathbf {g (x,y^{ini},u^{ini},p) }  \n",
    "\\end{split}\n",
    "$$\n",
    "\n",
    "Foreward solution:\n",
    "\n",
    "$$\n",
    "\\begin{split} \n",
    "\\mathbf {\\dot x}  &  =  \\mathbf {f (x,y^{run},u^{run},p) } \\\\\n",
    "\\mathbf 0 & =  \\mathbf {g (x,y^{run},u^{run},p) }  \n",
    "\\end{split}\n",
    "$$\n",
    "\n"
   ]
  },
  {
   "cell_type": "markdown",
   "metadata": {},
   "source": []
  }
 ],
 "metadata": {
  "kernelspec": {
   "display_name": "base",
   "language": "python",
   "name": "python3"
  },
  "language_info": {
   "codemirror_mode": {
    "name": "ipython",
    "version": 3
   },
   "file_extension": ".py",
   "mimetype": "text/x-python",
   "name": "python",
   "nbconvert_exporter": "python",
   "pygments_lexer": "ipython3",
   "version": "3.9.13 (main, Aug 25 2022, 23:51:50) [MSC v.1916 64 bit (AMD64)]"
  },
  "vscode": {
   "interpreter": {
    "hash": "1b1fd1016f48c91706a48f1be322d44ea1680db2bb213f1ce174a5eccfd1e534"
   }
  }
 },
 "nbformat": 4,
 "nbformat_minor": 4
}

{
 "cells": [
  {
   "cell_type": "markdown",
   "metadata": {},
   "source": [
    "### Differential Algebraic Equations (DAE)\n",
    "\n",
    "$$\n",
    "\\begin{split}   \\nonumber\n",
    "\\mathbf {\\dot x}  &   =  \\mathbf{f (x,y,u) } \\\\\n",
    "\\mathbf 0 &   =  \\mathbf{g (x,y,u) }  \\\\\n",
    "\\mathbf z &   =  \\mathbf{h (x,y,u) } \n",
    "\\end{split}\n",
    "$$\n",
    "\n",
    "with:\n",
    "\n",
    "- $ \\mathbf x$: dynamic states\n",
    "- $ \\mathbf y$: algebraic states\n",
    "- $ \\mathbf u$: known inputs\t\t\n",
    "- $ \\mathbf f$: differential equations\n",
    "- $ \\mathbf g$: algebraic equations\t\n",
    "- $ \\mathbf z$: outputs\n",
    "- $ \\mathbf h$: outputs functions\n",
    "\n",
    "\n",
    "$$ \n",
    "\\mathbf x = \\left[\n",
    "\\begin{array}{c} \n",
    "x_1 \\\\ \n",
    "x_2 \\\\ \n",
    "\\vdots \\\\ \n",
    " x_{N_x}\n",
    "\\end{array} \\right] \\;\\;\n",
    "\\mathbf y = \\left[\n",
    "\\begin{array}{c} \n",
    " y_1 \\\\ \n",
    " y_2 \\\\ \n",
    "\\vdots \\\\ \n",
    "y_{N_y}\n",
    "\\end{array} \\right]\n",
    "$$\n",
    "\n",
    "\n"
   ]
  }
 ],
 "metadata": {
  "kernelspec": {
   "display_name": "Python 3",
   "language": "python",
   "name": "python3"
  },
  "language_info": {
   "codemirror_mode": {
    "name": "ipython",
    "version": 3
   },
   "file_extension": ".py",
   "mimetype": "text/x-python",
   "name": "python",
   "nbconvert_exporter": "python",
   "pygments_lexer": "ipython3",
   "version": "3.8.5"
  }
 },
 "nbformat": 4,
 "nbformat_minor": 4
}
